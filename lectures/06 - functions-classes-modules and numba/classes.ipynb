{
 "cells": [
  {
   "cell_type": "markdown",
   "metadata": {
    "slideshow": {
     "slide_type": "slide"
    },
    "tags": []
   },
   "source": [
    "# Classes\n",
    "\n",
    "A class is a template for a collection of data values (attributes) and functions (methods) that define some behaviors."
   ]
  },
  {
   "cell_type": "code",
   "execution_count": 1,
   "metadata": {},
   "outputs": [],
   "source": [
    "class MySpikingNeuron:\n",
    "    \"\"\" My cool neuron\n",
    "    \n",
    "    This neuron can spike\n",
    "    and stuff!\n",
    "    \"\"\"\n",
    "    \n",
    "    def getTimeToNextSpikeInSec(self):\n",
    "        return 0.1"
   ]
  },
  {
   "cell_type": "markdown",
   "metadata": {},
   "source": [
    "Let's make an instance of the class template."
   ]
  },
  {
   "cell_type": "code",
   "execution_count": 2,
   "metadata": {
    "slideshow": {
     "slide_type": "fragment"
    }
   },
   "outputs": [
    {
     "data": {
      "text/plain": [
       "__main__.MySpikingNeuron"
      ]
     },
     "execution_count": 2,
     "metadata": {},
     "output_type": "execute_result"
    }
   ],
   "source": [
    "neuron = MySpikingNeuron()\n",
    "\n",
    "type(neuron)"
   ]
  },
  {
   "cell_type": "markdown",
   "metadata": {},
   "source": [
    "We can access the components of the class instance via the `.` notation."
   ]
  },
  {
   "cell_type": "code",
   "execution_count": 3,
   "metadata": {
    "slideshow": {
     "slide_type": "fragment"
    }
   },
   "outputs": [
    {
     "data": {
      "text/plain": [
       "0.1"
      ]
     },
     "execution_count": 3,
     "metadata": {},
     "output_type": "execute_result"
    }
   ],
   "source": [
    "neuron.getTimeToNextSpikeInSec()"
   ]
  },
  {
   "cell_type": "markdown",
   "metadata": {
    "slideshow": {
     "slide_type": "slide"
    }
   },
   "source": [
    "## Atributes\n",
    "\n",
    "A collection of data items that every `MySpikingNeuron` shoud have."
   ]
  },
  {
   "cell_type": "code",
   "execution_count": 4,
   "metadata": {},
   "outputs": [],
   "source": [
    "class MySpikingNeuron:\n",
    "    \n",
    "    # __init__ is called whenever we create an instance of the class\n",
    "    # self refers to the instance of the class we are working with\n",
    "    def __init__(self):\n",
    "        self.spikeRatePerSec = 20  # this variable is stored and available to all class methods\n",
    "        spikeRatePerSec = 100  # local variable that only exists during this function call\n",
    "    \n",
    "    def getTimeToNextSpikeInSec(self):\n",
    "        return 1 / self.spikeRatePerSec  # all methods have access to class attributes"
   ]
  },
  {
   "cell_type": "code",
   "execution_count": 5,
   "metadata": {
    "slideshow": {
     "slide_type": "fragment"
    }
   },
   "outputs": [
    {
     "data": {
      "text/plain": [
       "20"
      ]
     },
     "execution_count": 5,
     "metadata": {},
     "output_type": "execute_result"
    }
   ],
   "source": [
    "neuron = MySpikingNeuron()  # __init__() called here\n",
    "\n",
    "neuron.spikeRatePerSec"
   ]
  },
  {
   "cell_type": "code",
   "execution_count": 6,
   "metadata": {},
   "outputs": [
    {
     "data": {
      "text/plain": [
       "0.05"
      ]
     },
     "execution_count": 6,
     "metadata": {},
     "output_type": "execute_result"
    }
   ],
   "source": [
    "neuron.getTimeToNextSpikeInSec()"
   ]
  },
  {
   "cell_type": "code",
   "execution_count": 7,
   "metadata": {},
   "outputs": [
    {
     "data": {
      "text/plain": [
       "0.1"
      ]
     },
     "execution_count": 7,
     "metadata": {},
     "output_type": "execute_result"
    }
   ],
   "source": [
    "neuron.spikeRatePerSec = 10\n",
    "neuron.getTimeToNextSpikeInSec()"
   ]
  },
  {
   "cell_type": "markdown",
   "metadata": {
    "slideshow": {
     "slide_type": "slide"
    }
   },
   "source": [
    "## Initializing attributes\n",
    "\n",
    "The `__init__` function"
   ]
  },
  {
   "cell_type": "code",
   "execution_count": 9,
   "metadata": {},
   "outputs": [],
   "source": [
    "class MySpikingNeuron:\n",
    "    \n",
    "    def __init__(self, rate=100, region=\"\"):\n",
    "        self.spikeRatePerSec = rate\n",
    "        self.brainRegion = region\n",
    "    \n",
    "    def getTimeToNextSpikeInSec(self):\n",
    "        return 1 / self.spikeRatePerSec"
   ]
  },
  {
   "cell_type": "code",
   "execution_count": 10,
   "metadata": {},
   "outputs": [
    {
     "data": {
      "text/plain": [
       "(100, 'hippocampus', 0.01)"
      ]
     },
     "execution_count": 10,
     "metadata": {},
     "output_type": "execute_result"
    }
   ],
   "source": [
    "neuron = MySpikingNeuron(region=\"hippocampus\")\n",
    "\n",
    "neuron.spikeRatePerSec, neuron.brainRegion, neuron.getTimeToNextSpikeInSec()"
   ]
  },
  {
   "cell_type": "markdown",
   "metadata": {
    "slideshow": {
     "slide_type": "slide"
    }
   },
   "source": [
    "## Show all of an object's attributes"
   ]
  },
  {
   "cell_type": "code",
   "execution_count": 11,
   "metadata": {},
   "outputs": [
    {
     "data": {
      "text/plain": [
       "{'spikeRatePerSec': 100, 'brainRegion': 'hippocampus'}"
      ]
     },
     "execution_count": 11,
     "metadata": {},
     "output_type": "execute_result"
    }
   ],
   "source": [
    "neuron.__dict__"
   ]
  },
  {
   "cell_type": "markdown",
   "metadata": {
    "slideshow": {
     "slide_type": "slide"
    }
   },
   "source": [
    "## Class Template vs Instance\n",
    "\n",
    "Multiple individual instances of a class share the same template, can have different attribute values."
   ]
  },
  {
   "cell_type": "code",
   "execution_count": 12,
   "metadata": {},
   "outputs": [
    {
     "data": {
      "text/plain": [
       "(10, 100)"
      ]
     },
     "execution_count": 12,
     "metadata": {},
     "output_type": "execute_result"
    }
   ],
   "source": [
    "neuronA = MySpikingNeuron(rate=10)\n",
    "neuronB = MySpikingNeuron(rate=100)\n",
    "\n",
    "neuronA.spikeRatePerSec, neuronB.spikeRatePerSec"
   ]
  },
  {
   "cell_type": "code",
   "execution_count": 13,
   "metadata": {
    "slideshow": {
     "slide_type": "fragment"
    }
   },
   "outputs": [
    {
     "data": {
      "text/plain": [
       "0.1"
      ]
     },
     "execution_count": 13,
     "metadata": {},
     "output_type": "execute_result"
    }
   ],
   "source": [
    "neuronA.getTimeToNextSpikeInSec()"
   ]
  },
  {
   "cell_type": "code",
   "execution_count": 14,
   "metadata": {},
   "outputs": [
    {
     "data": {
      "text/plain": [
       "0.01"
      ]
     },
     "execution_count": 14,
     "metadata": {},
     "output_type": "execute_result"
    }
   ],
   "source": [
    "neuronB.getTimeToNextSpikeInSec()"
   ]
  },
  {
   "cell_type": "markdown",
   "metadata": {
    "slideshow": {
     "slide_type": "slide"
    }
   },
   "source": [
    "## Another example of a class method"
   ]
  },
  {
   "cell_type": "code",
   "execution_count": 15,
   "metadata": {},
   "outputs": [],
   "source": [
    "class MySpikingNeuron:\n",
    "    \n",
    "    def __init__(self, rate=100, region=\"\"):\n",
    "        self.spikeRatePerSec = rate\n",
    "        self.brainRegion = region\n",
    "    \n",
    "    def getTimeToNextSpikeInSec(self):\n",
    "        return 1 / self.spikeRatePerSec\n",
    "    \n",
    "    def getAverageSpikeRate(self, anotherNeuron):\n",
    "        return (self.spikeRatePerSec + anotherNeuron.spikeRatePerSec) / 2"
   ]
  },
  {
   "cell_type": "code",
   "execution_count": 16,
   "metadata": {
    "slideshow": {
     "slide_type": "fragment"
    }
   },
   "outputs": [
    {
     "data": {
      "text/plain": [
       "55.0"
      ]
     },
     "execution_count": 16,
     "metadata": {},
     "output_type": "execute_result"
    }
   ],
   "source": [
    "neuronA = MySpikingNeuron(10)\n",
    "neuronB = MySpikingNeuron(100)\n",
    "\n",
    "neuronA.getAverageSpikeRate(neuronB)"
   ]
  },
  {
   "cell_type": "markdown",
   "metadata": {
    "slideshow": {
     "slide_type": "slide"
    }
   },
   "source": [
    "## Classes are mutable objects"
   ]
  },
  {
   "cell_type": "code",
   "execution_count": 17,
   "metadata": {},
   "outputs": [],
   "source": [
    "def setSpikeRate(neuron, rate):\n",
    "    neuron.spikeRatePerSec = rate"
   ]
  },
  {
   "cell_type": "code",
   "execution_count": 18,
   "metadata": {},
   "outputs": [
    {
     "data": {
      "text/plain": [
       "3"
      ]
     },
     "execution_count": 18,
     "metadata": {},
     "output_type": "execute_result"
    }
   ],
   "source": [
    "neuronB = MySpikingNeuron(100)\n",
    "setSpikeRate(neuronB, 3)\n",
    "neuronB.spikeRatePerSec"
   ]
  },
  {
   "cell_type": "code",
   "execution_count": null,
   "metadata": {},
   "outputs": [],
   "source": []
  }
 ],
 "metadata": {
  "celltoolbar": "Slideshow",
  "kernelspec": {
   "display_name": "Python 3 (ipykernel)",
   "language": "python",
   "name": "python3"
  },
  "language_info": {
   "codemirror_mode": {
    "name": "ipython",
    "version": 3
   },
   "file_extension": ".py",
   "mimetype": "text/x-python",
   "name": "python",
   "nbconvert_exporter": "python",
   "pygments_lexer": "ipython3",
   "version": "3.9.5"
  }
 },
 "nbformat": 4,
 "nbformat_minor": 4
}
