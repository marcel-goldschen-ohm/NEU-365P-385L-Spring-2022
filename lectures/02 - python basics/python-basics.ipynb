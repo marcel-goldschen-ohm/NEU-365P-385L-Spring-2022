{
 "cells": [
  {
   "cell_type": "markdown",
   "id": "ab4cd1ae",
   "metadata": {
    "slideshow": {
     "slide_type": "slide"
    }
   },
   "source": [
    "# Python Basics\n",
    "\n",
    "It is my personal opinion that the best way to learn a programming language is to learn just enough syntax to be able to start working with it and then to simply dive in and apply it, learning more advanced features as you go.\n",
    "\n",
    "This is the approach we will take here to learning Python."
   ]
  },
  {
   "cell_type": "markdown",
   "id": "8679ce28",
   "metadata": {
    "slideshow": {
     "slide_type": "slide"
    }
   },
   "source": [
    "## Learning Objectives\n",
    "\n",
    "You will be introduced to the fundamental basics of Python.\n",
    "\n",
    "* You will be able to work with variables.\n",
    "* You will understand how Python code is organized into blocks.\n",
    "* You will be able to conditionally execute code blocks.\n",
    "* You will be able to create, index into, slice, and iterate over lists.\n",
    "* You will understand the difference between mutable and immutable objects."
   ]
  },
  {
   "cell_type": "markdown",
   "id": "5a0c136f",
   "metadata": {
    "slideshow": {
     "slide_type": "fragment"
    }
   },
   "source": [
    "I don't expect you to immediatley memorize all of this.\n",
    "\n",
    "<font color=red>But I do expect that you will be able to apply these concepts given this and/or other online references.</font>"
   ]
  },
  {
   "cell_type": "markdown",
   "id": "ba069406",
   "metadata": {
    "slideshow": {
     "slide_type": "slide"
    }
   },
   "source": [
    "Some additional online resources\n",
    "\n",
    "* https://www.tutorialsteacher.com/python\n",
    "* https://www.learnpython.org\n",
    "* https://docs.python-guide.org/intro/learning/\n",
    "* https://wiki.python.org/moin/BeginnersGuide/NonProgrammers\n",
    "* https://pythontutor.com\n",
    "\n",
    "There are many more out there. If you know of a really good one, please share with the class on the discussion board!"
   ]
  },
  {
   "cell_type": "markdown",
   "id": "14054d95",
   "metadata": {
    "slideshow": {
     "slide_type": "slide"
    }
   },
   "source": [
    "## Variables"
   ]
  },
  {
   "cell_type": "code",
   "execution_count": 2,
   "id": "c2a57da8",
   "metadata": {
    "slideshow": {
     "slide_type": "-"
    }
   },
   "outputs": [],
   "source": [
    "x = 5\n",
    "value9 = -34.2\n",
    "my_str = \"hello\"\n",
    "_myFlag = True"
   ]
  },
  {
   "cell_type": "code",
   "execution_count": 3,
   "id": "cf5cea8d",
   "metadata": {
    "slideshow": {
     "slide_type": "fragment"
    }
   },
   "outputs": [
    {
     "data": {
      "text/plain": [
       "5"
      ]
     },
     "execution_count": 3,
     "metadata": {},
     "output_type": "execute_result"
    }
   ],
   "source": [
    "x"
   ]
  },
  {
   "cell_type": "code",
   "execution_count": 4,
   "id": "ddd97dd4",
   "metadata": {
    "slideshow": {
     "slide_type": "fragment"
    }
   },
   "outputs": [
    {
     "data": {
      "text/plain": [
       "6"
      ]
     },
     "execution_count": 4,
     "metadata": {},
     "output_type": "execute_result"
    }
   ],
   "source": [
    "x = 6\n",
    "x"
   ]
  },
  {
   "cell_type": "code",
   "execution_count": 5,
   "id": "2d69c12a",
   "metadata": {
    "slideshow": {
     "slide_type": "fragment"
    }
   },
   "outputs": [
    {
     "data": {
      "text/plain": [
       "(-34.2, 'hello', True)"
      ]
     },
     "execution_count": 5,
     "metadata": {},
     "output_type": "execute_result"
    }
   ],
   "source": [
    "value9, my_str, _myFlag"
   ]
  },
  {
   "cell_type": "markdown",
   "id": "a2518514",
   "metadata": {
    "slideshow": {
     "slide_type": "slide"
    }
   },
   "source": [
    "## Types"
   ]
  },
  {
   "cell_type": "code",
   "execution_count": 6,
   "id": "3e7036c3",
   "metadata": {},
   "outputs": [
    {
     "data": {
      "text/plain": [
       "(6, -34.2, 'hello', True)"
      ]
     },
     "execution_count": 6,
     "metadata": {},
     "output_type": "execute_result"
    }
   ],
   "source": [
    "x, value9, my_str, _myFlag"
   ]
  },
  {
   "cell_type": "code",
   "execution_count": 7,
   "id": "f5f7433f",
   "metadata": {
    "slideshow": {
     "slide_type": "-"
    }
   },
   "outputs": [
    {
     "data": {
      "text/plain": [
       "(int, float, str, bool)"
      ]
     },
     "execution_count": 7,
     "metadata": {},
     "output_type": "execute_result"
    }
   ],
   "source": [
    "type(x), type(value9), type(my_str), type(_myFlag)"
   ]
  },
  {
   "cell_type": "markdown",
   "id": "2bf4ef76",
   "metadata": {
    "slideshow": {
     "slide_type": "slide"
    }
   },
   "source": [
    "## Comments & Variable Names\n",
    "\n",
    "!!! You will spend much more time reading code (including your own) than writing it.\n",
    "\n",
    "Well commented code with informative variable names is essential for others (and also yourself a month or a year from now) to understand what your code does.\n",
    "\n"
   ]
  },
  {
   "cell_type": "code",
   "execution_count": null,
   "id": "2f37de9a",
   "metadata": {
    "slideshow": {
     "slide_type": "slide"
    }
   },
   "outputs": [],
   "source": [
    "# number of neurons in dataset\n",
    "n = 156  # so many neurons!\n",
    "\n",
    "\"\"\" A shorthand variable like `n` can be good\n",
    "if it is only used in a local context (e.g. this cell).\n",
    "\n",
    "However, if you refer to `n` in later cells,\n",
    "it may not be obvious what you mean by it.\n",
    "\"\"\"\n",
    "\n",
    "# this will always be clear\n",
    "numNeurons = 156\n",
    "num_neurons = 156  # another popular way to join words\n",
    "\n",
    "\"\"\" Although super clear, writing any sort of expression \n",
    "involving this variable will end up in a really long line of code \n",
    "that will also hinder easy interpretation.\n",
    "\"\"\"\n",
    "theNumberOfThoseRareNeuronsWithHighlyDistinctProcesses = 156"
   ]
  },
  {
   "cell_type": "markdown",
   "id": "f2c245d3",
   "metadata": {
    "slideshow": {
     "slide_type": "slide"
    }
   },
   "source": [
    "## Variable names\n",
    "\n",
    "A huge amount of writing code comes down to `naming things`, which surprising enough is actually not an easy task!\n",
    "\n",
    "* too short ==> unclear unless only used in immediate vicinity\n",
    "* too long ==> makes it hard to read super long code lines\n",
    "* just right ==>\n",
    "\n",
    "![Goldilocks](images/goldilocks.jpg)"
   ]
  },
  {
   "cell_type": "markdown",
   "id": "21137662",
   "metadata": {
    "slideshow": {
     "slide_type": "slide"
    }
   },
   "source": [
    "## Basic Operations"
   ]
  },
  {
   "cell_type": "code",
   "execution_count": 3,
   "id": "ed069bff",
   "metadata": {
    "slideshow": {
     "slide_type": "-"
    }
   },
   "outputs": [
    {
     "name": "stdout",
     "output_type": "stream",
     "text": [
      "8\n",
      "4\n",
      "12\n",
      "3.0\n",
      "36\n"
     ]
    }
   ],
   "source": [
    "print(6 + 2)\n",
    "print(6 - 2)\n",
    "print(6 * 2)\n",
    "print(6 / 2)\n",
    "print(6**2)  # !!! NOT 6^2"
   ]
  },
  {
   "cell_type": "code",
   "execution_count": 4,
   "id": "f58db03d",
   "metadata": {
    "slideshow": {
     "slide_type": "slide"
    }
   },
   "outputs": [
    {
     "data": {
      "text/plain": [
       "8"
      ]
     },
     "execution_count": 4,
     "metadata": {},
     "output_type": "execute_result"
    }
   ],
   "source": [
    "x = (2**4 - (1 + 5)) * 2 - 12\n",
    "x"
   ]
  },
  {
   "cell_type": "markdown",
   "id": "e50af485",
   "metadata": {
    "slideshow": {
     "slide_type": "slide"
    }
   },
   "source": [
    "## Logical Comparison"
   ]
  },
  {
   "cell_type": "code",
   "execution_count": 8,
   "id": "51624aa6",
   "metadata": {
    "slideshow": {
     "slide_type": "-"
    }
   },
   "outputs": [
    {
     "data": {
      "text/plain": [
       "(True, False, True, True, False, True, False)"
      ]
     },
     "execution_count": 8,
     "metadata": {},
     "output_type": "execute_result"
    }
   ],
   "source": [
    "x = 3\n",
    "y = 5\n",
    "\n",
    "x == 3, x == 4, x != 4, x < 5, x >= 3.1, x < y, x > y"
   ]
  },
  {
   "cell_type": "code",
   "execution_count": 12,
   "id": "bac9c755",
   "metadata": {
    "slideshow": {
     "slide_type": "slide"
    }
   },
   "outputs": [
    {
     "data": {
      "text/plain": [
       "(True, False)"
      ]
     },
     "execution_count": 12,
     "metadata": {},
     "output_type": "execute_result"
    }
   ],
   "source": [
    "x < y, y == 4"
   ]
  },
  {
   "cell_type": "code",
   "execution_count": 13,
   "id": "3e3aefb5",
   "metadata": {
    "slideshow": {
     "slide_type": "fragment"
    }
   },
   "outputs": [
    {
     "data": {
      "text/plain": [
       "False"
      ]
     },
     "execution_count": 13,
     "metadata": {},
     "output_type": "execute_result"
    }
   ],
   "source": [
    "not x < y"
   ]
  },
  {
   "cell_type": "code",
   "execution_count": 14,
   "id": "06d23a07",
   "metadata": {
    "slideshow": {
     "slide_type": "fragment"
    }
   },
   "outputs": [
    {
     "data": {
      "text/plain": [
       "False"
      ]
     },
     "execution_count": 14,
     "metadata": {},
     "output_type": "execute_result"
    }
   ],
   "source": [
    "x < y and y == 4"
   ]
  },
  {
   "cell_type": "code",
   "execution_count": 15,
   "id": "bd3f03a9",
   "metadata": {
    "slideshow": {
     "slide_type": "fragment"
    }
   },
   "outputs": [
    {
     "data": {
      "text/plain": [
       "True"
      ]
     },
     "execution_count": 15,
     "metadata": {},
     "output_type": "execute_result"
    }
   ],
   "source": [
    "x < y or y == 4"
   ]
  },
  {
   "cell_type": "code",
   "execution_count": 39,
   "id": "c3a77d51",
   "metadata": {
    "slideshow": {
     "slide_type": "fragment"
    }
   },
   "outputs": [
    {
     "data": {
      "text/plain": [
       "True"
      ]
     },
     "execution_count": 39,
     "metadata": {},
     "output_type": "execute_result"
    }
   ],
   "source": [
    "x < y and (y == 4 or x == 3)"
   ]
  },
  {
   "cell_type": "markdown",
   "id": "25da0a19",
   "metadata": {
    "slideshow": {
     "slide_type": "slide"
    }
   },
   "source": [
    "## Exercise\n",
    "\n",
    "True or False? Can you figure it out without executing the code?\n",
    "\n",
    "    x = 5\n",
    "    y = -1\n",
    "    \n",
    "    y < 0 and not ( (x == y or x > y) and 10 >= 3 )"
   ]
  },
  {
   "cell_type": "markdown",
   "id": "fb071cca",
   "metadata": {
    "slideshow": {
     "slide_type": "slide"
    }
   },
   "source": [
    "## Conditional Code Blocks\n",
    "\n",
    "Tab indentation defines a code block."
   ]
  },
  {
   "cell_type": "code",
   "execution_count": 1,
   "id": "c5a83c3f",
   "metadata": {
    "slideshow": {
     "slide_type": "-"
    }
   },
   "outputs": [
    {
     "name": "stdout",
     "output_type": "stream",
     "text": [
      "Always print this\n"
     ]
    }
   ],
   "source": [
    "if False:\n",
    "    print(\"Don't print this\")\n",
    "    print(\"Or this\")\n",
    "print(\"Always print this\")"
   ]
  },
  {
   "cell_type": "markdown",
   "id": "f3289167",
   "metadata": {
    "slideshow": {
     "slide_type": "fragment"
    }
   },
   "source": [
    "Change above cell so that conditional code block is executed."
   ]
  },
  {
   "cell_type": "code",
   "execution_count": 18,
   "id": "4b662bb9",
   "metadata": {
    "slideshow": {
     "slide_type": "slide"
    }
   },
   "outputs": [
    {
     "name": "stdout",
     "output_type": "stream",
     "text": [
      "Print this\n",
      "And this\n",
      "Done\n"
     ]
    }
   ],
   "source": [
    "flag = True\n",
    "\n",
    "if flag:\n",
    "    \n",
    "    print(\"Print this\")\n",
    "    \n",
    "    \n",
    "    print(\"And this\")\n",
    "\n",
    "print(\"Done\")"
   ]
  },
  {
   "cell_type": "markdown",
   "id": "6abc91df",
   "metadata": {
    "slideshow": {
     "slide_type": "slide"
    }
   },
   "source": [
    "if/elif/else"
   ]
  },
  {
   "cell_type": "code",
   "execution_count": 62,
   "id": "d6c51209",
   "metadata": {
    "slideshow": {
     "slide_type": "-"
    }
   },
   "outputs": [
    {
     "name": "stdout",
     "output_type": "stream",
     "text": [
      "meow\n"
     ]
    }
   ],
   "source": [
    "animal = \"cat\"\n",
    "\n",
    "if animal == \"cat\":\n",
    "    print('meow')\n",
    "elif animal == \"dog\":\n",
    "    \n",
    "    print('bark')\n",
    "    \n",
    "elif animal == \"bird\":\n",
    "    pass\n",
    "else:\n",
    "    print('not a cat')\n",
    "    \n",
    "    print('not a dog')\n",
    "    print('not a bird')"
   ]
  },
  {
   "cell_type": "markdown",
   "id": "9f9772dd",
   "metadata": {
    "slideshow": {
     "slide_type": "fragment"
    }
   },
   "source": [
    "Try changing **animal** to **dog**, **bird** or **fish** and rerun the above cell."
   ]
  },
  {
   "cell_type": "markdown",
   "id": "420d2e88",
   "metadata": {
    "slideshow": {
     "slide_type": "slide"
    }
   },
   "source": [
    "## Nested code blocks\n",
    "\n",
    "Tab indentation defines how **Python organizes all code into blocks**\n",
    "\n",
    "![Nested code blocks](images/code-blocks.png)"
   ]
  },
  {
   "cell_type": "markdown",
   "id": "4ae9c334",
   "metadata": {
    "slideshow": {
     "slide_type": "slide"
    }
   },
   "source": [
    "## Nested code blocks\n",
    "\n",
    "![Nested code blocks](images/nested-blocks.png)"
   ]
  },
  {
   "cell_type": "markdown",
   "id": "5bc4f5f2",
   "metadata": {
    "slideshow": {
     "slide_type": "slide"
    }
   },
   "source": [
    "## Exercise"
   ]
  },
  {
   "cell_type": "code",
   "execution_count": 2,
   "id": "0ba33699",
   "metadata": {
    "slideshow": {
     "slide_type": "-"
    }
   },
   "outputs": [],
   "source": [
    "x = -2.1\n",
    "\n",
    "# write code that prints \"negative\", \"zero\" or \"positive\"\n",
    "# depending on whatever value x is assigned\n",
    "\n",
    "\n"
   ]
  },
  {
   "cell_type": "markdown",
   "id": "f320a9ff",
   "metadata": {
    "slideshow": {
     "slide_type": "slide"
    }
   },
   "source": [
    "Ok, so far we've covered:\n",
    "\n",
    "* variables\n",
    "* basic math operations\n",
    "* comparison\n",
    "* conditional code blocks\n",
    "\n",
    "The rest of this lecture will mostly be about:\n",
    "\n",
    "* lists"
   ]
  },
  {
   "cell_type": "markdown",
   "id": "5059db29",
   "metadata": {
    "slideshow": {
     "slide_type": "slide"
    }
   },
   "source": [
    "## List"
   ]
  },
  {
   "cell_type": "code",
   "execution_count": 7,
   "id": "b7d45eac",
   "metadata": {
    "slideshow": {
     "slide_type": "-"
    }
   },
   "outputs": [
    {
     "data": {
      "text/plain": [
       "[1, 2, 3.4, 'hi', True]"
      ]
     },
     "execution_count": 7,
     "metadata": {},
     "output_type": "execute_result"
    }
   ],
   "source": [
    "mylist = [1, 2, 3.4, \"hi\", True]\n",
    "mylist"
   ]
  },
  {
   "cell_type": "code",
   "execution_count": 8,
   "id": "ad6a51c6",
   "metadata": {},
   "outputs": [
    {
     "data": {
      "text/plain": [
       "5"
      ]
     },
     "execution_count": 8,
     "metadata": {},
     "output_type": "execute_result"
    }
   ],
   "source": [
    "len(mylist) # length of mylist (i.e. number of items in list)"
   ]
  },
  {
   "cell_type": "code",
   "execution_count": 21,
   "id": "6e67fb6b",
   "metadata": {
    "slideshow": {
     "slide_type": "slide"
    }
   },
   "outputs": [
    {
     "data": {
      "text/plain": [
       "[]"
      ]
     },
     "execution_count": 21,
     "metadata": {},
     "output_type": "execute_result"
    }
   ],
   "source": [
    "alist = []  # create an empty list\n",
    "alist"
   ]
  },
  {
   "cell_type": "code",
   "execution_count": 22,
   "id": "4e1e01ad",
   "metadata": {
    "slideshow": {
     "slide_type": "fragment"
    }
   },
   "outputs": [
    {
     "data": {
      "text/plain": [
       "[2, 5.4]"
      ]
     },
     "execution_count": 22,
     "metadata": {},
     "output_type": "execute_result"
    }
   ],
   "source": [
    "alist.append(2)    # append() is a method/function of the list object\n",
    "alist.append(5.4)  # there are other list methods like insert(), etc.\n",
    "alist"
   ]
  },
  {
   "cell_type": "code",
   "execution_count": 24,
   "id": "d24096a2",
   "metadata": {
    "slideshow": {
     "slide_type": "fragment"
    }
   },
   "outputs": [
    {
     "data": {
      "text/plain": [
       "(2, 5.4)"
      ]
     },
     "execution_count": 24,
     "metadata": {},
     "output_type": "execute_result"
    }
   ],
   "source": [
    "a, b = alist  # list unpacking\n",
    "a, b"
   ]
  },
  {
   "cell_type": "markdown",
   "id": "ff507ada",
   "metadata": {
    "slideshow": {
     "slide_type": "fragment"
    }
   },
   "source": [
    "You can insert and delete list items and much more, but I'll let you look up how to do that on your own."
   ]
  },
  {
   "cell_type": "markdown",
   "id": "a4c81aee",
   "metadata": {
    "slideshow": {
     "slide_type": "slide"
    }
   },
   "source": [
    "## List Indexing\n",
    "\n",
    "!!! You will use this often\n",
    "\n",
    "![List indexing](images/list-indexing.png)"
   ]
  },
  {
   "cell_type": "code",
   "execution_count": 8,
   "id": "eb1d970a",
   "metadata": {
    "slideshow": {
     "slide_type": "fragment"
    }
   },
   "outputs": [
    {
     "data": {
      "text/plain": [
       "(1, 2, True, 'hi')"
      ]
     },
     "execution_count": 8,
     "metadata": {},
     "output_type": "execute_result"
    }
   ],
   "source": [
    "mylist = [1, 2, 3.4, \"hi\", True]\n",
    "\n",
    "mylist[0], mylist[1], mylist[-1], mylist[-2]"
   ]
  },
  {
   "cell_type": "code",
   "execution_count": 25,
   "id": "d50fdc63",
   "metadata": {
    "slideshow": {
     "slide_type": "fragment"
    }
   },
   "outputs": [
    {
     "data": {
      "text/plain": [
       "'hi'"
      ]
     },
     "execution_count": 25,
     "metadata": {},
     "output_type": "execute_result"
    }
   ],
   "source": [
    "i = 3  # you'll often use a variable index\n",
    "mylist[i]"
   ]
  },
  {
   "cell_type": "markdown",
   "id": "7186c486",
   "metadata": {
    "slideshow": {
     "slide_type": "slide"
    }
   },
   "source": [
    "## List Slicing\n",
    "\n",
    "!!! You will use this often\n",
    "\n",
    "![List slicing](images/list-slice-start-stop.png)"
   ]
  },
  {
   "cell_type": "markdown",
   "id": "31acbae2",
   "metadata": {
    "slideshow": {
     "slide_type": "slide"
    }
   },
   "source": [
    "## List Slicing\n",
    "\n",
    "```python\n",
    "list[start:stop:step]\n",
    "```"
   ]
  },
  {
   "cell_type": "code",
   "execution_count": 36,
   "id": "7db0a715",
   "metadata": {},
   "outputs": [
    {
     "data": {
      "text/plain": [
       "[2, 3.4, 'hi']"
      ]
     },
     "execution_count": 36,
     "metadata": {},
     "output_type": "execute_result"
    }
   ],
   "source": [
    "mylist = [1, 2, 3.4, \"hi\", True, 5, 82, 99]\n",
    "\n",
    "# 1:4 ==> 1,2,3\n",
    "\n",
    "mylist[1:4]"
   ]
  },
  {
   "cell_type": "code",
   "execution_count": 37,
   "id": "9f1204cf",
   "metadata": {
    "slideshow": {
     "slide_type": "fragment"
    }
   },
   "outputs": [
    {
     "data": {
      "text/plain": [
       "[2, 'hi', 5]"
      ]
     },
     "execution_count": 37,
     "metadata": {},
     "output_type": "execute_result"
    }
   ],
   "source": [
    "# 1:7:2 ==> 1,3,5\n",
    "\n",
    "mylist[1:7:2]"
   ]
  },
  {
   "cell_type": "markdown",
   "id": "dcabbed8",
   "metadata": {
    "slideshow": {
     "slide_type": "slide"
    }
   },
   "source": [
    "## List Slice Defaults\n",
    "\n",
    "```python\n",
    "list[ first : after last : 1 ]\n",
    "```"
   ]
  },
  {
   "cell_type": "code",
   "execution_count": 3,
   "id": "2372f7f0",
   "metadata": {
    "slideshow": {
     "slide_type": "fragment"
    }
   },
   "outputs": [
    {
     "data": {
      "text/plain": [
       "[True, 5, 82, 99]"
      ]
     },
     "execution_count": 3,
     "metadata": {},
     "output_type": "execute_result"
    }
   ],
   "source": [
    "mylist = [1, 2, 3.4, \"hi\", True, 5, 82, 99]\n",
    "\n",
    "mylist[4:]  # index 4 and everything after"
   ]
  },
  {
   "cell_type": "code",
   "execution_count": 4,
   "id": "5950028d",
   "metadata": {
    "slideshow": {
     "slide_type": "fragment"
    }
   },
   "outputs": [
    {
     "data": {
      "text/plain": [
       "[1, 2, 3.4, 'hi']"
      ]
     },
     "execution_count": 4,
     "metadata": {},
     "output_type": "execute_result"
    }
   ],
   "source": [
    "mylist[:4]  # everything before index 4"
   ]
  },
  {
   "cell_type": "code",
   "execution_count": 5,
   "id": "20375392",
   "metadata": {
    "slideshow": {
     "slide_type": "fragment"
    }
   },
   "outputs": [
    {
     "data": {
      "text/plain": [
       "[1, 2, 3.4, 'hi', True, 5, 82, 99]"
      ]
     },
     "execution_count": 5,
     "metadata": {},
     "output_type": "execute_result"
    }
   ],
   "source": [
    "mylist[:]  # everything"
   ]
  },
  {
   "cell_type": "code",
   "execution_count": 6,
   "id": "c1101643",
   "metadata": {
    "slideshow": {
     "slide_type": "fragment"
    }
   },
   "outputs": [
    {
     "data": {
      "text/plain": [
       "[1, 3.4, True, 82]"
      ]
     },
     "execution_count": 6,
     "metadata": {},
     "output_type": "execute_result"
    }
   ],
   "source": [
    "mylist[::2]  # every other item"
   ]
  },
  {
   "cell_type": "markdown",
   "id": "1acaf401",
   "metadata": {
    "slideshow": {
     "slide_type": "slide"
    }
   },
   "source": [
    "## Exercise"
   ]
  },
  {
   "cell_type": "code",
   "execution_count": null,
   "id": "350ea894",
   "metadata": {},
   "outputs": [],
   "source": [
    "numbers = [-2, -1, 0, 1, 2, 3, 4, 5, 6, 7, 8, 9]\n",
    "\n",
    "# use list indexing to get all odd numbers\n",
    "odds = numbers[???]\n",
    "\n",
    "# use list indexing to get all non-negative even numbers\n",
    "non_neg_evens = numbers[???]\n",
    "\n",
    "evens, non_neg_odds"
   ]
  },
  {
   "cell_type": "markdown",
   "id": "6350eb97",
   "metadata": {
    "slideshow": {
     "slide_type": "slide"
    }
   },
   "source": [
    "## Lists are Mutable (editable, can be changed)\n",
    "\n",
    "In addition to adding/removing items, you can change the value of items in a list.\n",
    "\n",
    "i.e. a list is a `mutable` object."
   ]
  },
  {
   "cell_type": "code",
   "execution_count": 42,
   "id": "8e8b26f3",
   "metadata": {
    "slideshow": {
     "slide_type": "-"
    }
   },
   "outputs": [
    {
     "data": {
      "text/plain": [
       "[10, 2, 7.8, 'hi', 78.0]"
      ]
     },
     "execution_count": 42,
     "metadata": {},
     "output_type": "execute_result"
    }
   ],
   "source": [
    "mylist = [1, 2, 3.4, \"hi\", True]\n",
    "\n",
    "# change the list value at index 2 to 7.8\n",
    "mylist[2] = 7.8\n",
    "\n",
    "# set the last value to 10 * the value at index 2\n",
    "mylist[-1] = 10 * mylist[2]\n",
    "\n",
    "# mutliply the first value by 10\n",
    "mylist[0] = mylist[0] * 10\n",
    "\n",
    "mylist"
   ]
  },
  {
   "cell_type": "markdown",
   "id": "eecfdeac",
   "metadata": {
    "slideshow": {
     "slide_type": "slide"
    }
   },
   "source": [
    "## Nested Lists\n",
    "\n",
    "!!! WARNING !!! This quickly becomes cumbersome with more than a few levels of nesting. Where applicable, the NumPy package offers a much better approach which we will explore later."
   ]
  },
  {
   "cell_type": "code",
   "execution_count": 27,
   "id": "4f5fe2f6",
   "metadata": {},
   "outputs": [
    {
     "data": {
      "text/plain": [
       "[3, 4]"
      ]
     },
     "execution_count": 27,
     "metadata": {},
     "output_type": "execute_result"
    }
   ],
   "source": [
    "mylist = [1, 2, [3, 4]]\n",
    "\n",
    "mylist[2]"
   ]
  },
  {
   "cell_type": "code",
   "execution_count": 78,
   "id": "e5e41977",
   "metadata": {
    "slideshow": {
     "slide_type": "fragment"
    }
   },
   "outputs": [
    {
     "data": {
      "text/plain": [
       "3"
      ]
     },
     "execution_count": 78,
     "metadata": {},
     "output_type": "execute_result"
    }
   ],
   "source": [
    "mylist[2][0]"
   ]
  },
  {
   "cell_type": "markdown",
   "id": "42a8ef50",
   "metadata": {
    "slideshow": {
     "slide_type": "slide"
    }
   },
   "source": [
    "## Some general advice regarding lists\n",
    "\n",
    "Lists are <font color=red>PERFECT</font> for small collections of arbitrary objects.\n",
    "\n",
    "Lists are <font color=red>NOT VERY GOOD</font> for large arrays with multiple dimensions. For this, we will use NumPy which we will cover later."
   ]
  },
  {
   "cell_type": "markdown",
   "id": "3d9d7a87",
   "metadata": {
    "slideshow": {
     "slide_type": "slide"
    }
   },
   "source": [
    "## List Comprehension\n",
    "\n",
    "https://www.tutorialsteacher.com/python/python-list-comprehension\n",
    "\n",
    "<font color=red>In my opinion, these should be AVOIDED for the sake of code readability except for in the simplest cases.</font>\n",
    "\n",
    "If you want to learn about them, you're on your own.\n",
    "\n",
    "Note that you are very likely to encounter them out in the wild, so it is probably worth at least having a basic understanding of them. Again, I leave this to you."
   ]
  },
  {
   "cell_type": "markdown",
   "id": "2f700a4f",
   "metadata": {
    "slideshow": {
     "slide_type": "slide"
    }
   },
   "source": [
    "## Iterate through the items in a list"
   ]
  },
  {
   "cell_type": "code",
   "execution_count": 48,
   "id": "0da55436",
   "metadata": {},
   "outputs": [
    {
     "name": "stdout",
     "output_type": "stream",
     "text": [
      "1\n",
      "2\n",
      "3.4\n",
      "hi\n",
      "[5, 6]\n",
      "True\n"
     ]
    }
   ],
   "source": [
    "mylist = [1, 2, 3.4, \"hi\", [5, 6], True]\n",
    "\n",
    "# loop over items\n",
    "for item in mylist:\n",
    "    print(item)"
   ]
  },
  {
   "cell_type": "code",
   "execution_count": 49,
   "id": "e923c139",
   "metadata": {
    "slideshow": {
     "slide_type": "slide"
    }
   },
   "outputs": [
    {
     "data": {
      "text/plain": [
       "6"
      ]
     },
     "execution_count": 49,
     "metadata": {},
     "output_type": "execute_result"
    }
   ],
   "source": [
    "mylist = [1, 2, 3.4, \"hi\", [5, 6], True]\n",
    "\n",
    "len(mylist) # length of mylist"
   ]
  },
  {
   "cell_type": "code",
   "execution_count": 45,
   "id": "cb1edc70",
   "metadata": {
    "slideshow": {
     "slide_type": "fragment"
    }
   },
   "outputs": [
    {
     "name": "stdout",
     "output_type": "stream",
     "text": [
      "0 1\n",
      "1 2\n",
      "2 3.4\n",
      "3 hi\n",
      "4 True\n",
      "5 [5, 6]\n"
     ]
    }
   ],
   "source": [
    "# loop over indices\n",
    "for i in range(len(mylist)):\n",
    "    print(i, mylist[i])"
   ]
  },
  {
   "cell_type": "code",
   "execution_count": 2,
   "id": "b5212409",
   "metadata": {
    "scrolled": true,
    "slideshow": {
     "slide_type": "slide"
    }
   },
   "outputs": [
    {
     "name": "stdout",
     "output_type": "stream",
     "text": [
      "0 1 2\n",
      "1 2 4\n",
      "2 3.4 6.8\n",
      "3 hi hihi\n",
      "4 [5, 6] [5, 6, 5, 6]\n",
      "5 True 2\n"
     ]
    }
   ],
   "source": [
    "mylist = [1, 2, 3.4, \"hi\", [5, 6], True]\n",
    "\n",
    "# access both indices and values in loop\n",
    "for (i, val) in enumerate(mylist):\n",
    "    val = val * 2\n",
    "    print(i, mylist[i], val)"
   ]
  },
  {
   "cell_type": "markdown",
   "id": "3d0408e3",
   "metadata": {
    "slideshow": {
     "slide_type": "slide"
    }
   },
   "source": [
    "Each iteration of a `for` loop runs the loop's entire code block."
   ]
  },
  {
   "cell_type": "code",
   "execution_count": 11,
   "id": "bf300e25",
   "metadata": {
    "slideshow": {
     "slide_type": "-"
    }
   },
   "outputs": [
    {
     "name": "stdout",
     "output_type": "stream",
     "text": [
      "0\n",
      "---\n",
      "1\n",
      "---\n",
      "2\n",
      "---\n",
      "4\n",
      "---\n",
      "5\n",
      "---\n",
      "6\n",
      "---\n",
      "done\n"
     ]
    }
   ],
   "source": [
    "for i in range(10):\n",
    "    if i == 3:\n",
    "        continue  # skip to next loop iteration\n",
    "    if i == 7:\n",
    "        break  # exit the loop\n",
    "    print(i)\n",
    "    print(\"---\")\n",
    "    \n",
    "print(\"done\")"
   ]
  },
  {
   "cell_type": "markdown",
   "id": "f122f811",
   "metadata": {
    "slideshow": {
     "slide_type": "slide"
    }
   },
   "source": [
    "## Exercise"
   ]
  },
  {
   "cell_type": "code",
   "execution_count": null,
   "id": "dd51400f",
   "metadata": {},
   "outputs": [],
   "source": [
    "kingdoms = [\"mammal\", \"amphibian\", \"reptile\", \"bird\", \"fish\", \"insect\"]\n",
    "\n",
    "# use a for loop to iterate through the kingdoms\n",
    "# and print each kingdom one at a time until you reach bird,\n",
    "# at which point stop printing and exit the loop\n",
    "\n",
    "\n"
   ]
  },
  {
   "cell_type": "markdown",
   "id": "9b108ef8",
   "metadata": {
    "slideshow": {
     "slide_type": "slide"
    }
   },
   "source": [
    "## Another type of loop"
   ]
  },
  {
   "cell_type": "code",
   "execution_count": 57,
   "id": "5e26616e",
   "metadata": {},
   "outputs": [
    {
     "name": "stdout",
     "output_type": "stream",
     "text": [
      "0\n",
      "1\n",
      "2\n",
      "3\n",
      "4\n"
     ]
    }
   ],
   "source": [
    "i = 0\n",
    "while i < 5:\n",
    "    print(i)\n",
    "    i += 1"
   ]
  },
  {
   "cell_type": "markdown",
   "id": "e4d62223",
   "metadata": {
    "slideshow": {
     "slide_type": "slide"
    }
   },
   "source": [
    "## Stuck in an infinite loop?\n",
    "\n",
    "Stop the kernel. "
   ]
  },
  {
   "cell_type": "code",
   "execution_count": 12,
   "id": "00f5e865",
   "metadata": {},
   "outputs": [
    {
     "ename": "KeyboardInterrupt",
     "evalue": "",
     "output_type": "error",
     "traceback": [
      "\u001b[0;31m---------------------------------------------------------------------------\u001b[0m",
      "\u001b[0;31mKeyboardInterrupt\u001b[0m                         Traceback (most recent call last)",
      "\u001b[0;32m<ipython-input-12-b7133701d76c>\u001b[0m in \u001b[0;36m<module>\u001b[0;34m\u001b[0m\n\u001b[1;32m      1\u001b[0m \u001b[0;32mwhile\u001b[0m \u001b[0;32mTrue\u001b[0m\u001b[0;34m:\u001b[0m\u001b[0;34m\u001b[0m\u001b[0;34m\u001b[0m\u001b[0m\n\u001b[0;32m----> 2\u001b[0;31m     \u001b[0;32mpass\u001b[0m\u001b[0;34m\u001b[0m\u001b[0;34m\u001b[0m\u001b[0m\n\u001b[0m",
      "\u001b[0;31mKeyboardInterrupt\u001b[0m: "
     ]
    }
   ],
   "source": [
    "while True:\n",
    "    pass"
   ]
  },
  {
   "cell_type": "markdown",
   "id": "ed42665e-4763-441a-8900-ed2b42ee9d82",
   "metadata": {
    "slideshow": {
     "slide_type": "slide"
    }
   },
   "source": [
    "## Loop progress\n",
    "\n",
    "`conda install tqdm`"
   ]
  },
  {
   "cell_type": "code",
   "execution_count": 10,
   "id": "ab724076-8612-44fa-afef-ede933d62850",
   "metadata": {},
   "outputs": [
    {
     "name": "stderr",
     "output_type": "stream",
     "text": [
      "100%|██████████| 5/5 [00:05<00:00,  1.00s/it]\n"
     ]
    }
   ],
   "source": [
    "import time\n",
    "from tqdm import tqdm\n",
    "\n",
    "for i in tqdm(range(5)):\n",
    "    time.sleep(1)"
   ]
  },
  {
   "cell_type": "markdown",
   "id": "70f560e2-91e1-453c-999a-23325405fb3d",
   "metadata": {
    "slideshow": {
     "slide_type": "slide"
    },
    "tags": []
   },
   "source": [
    "## help() function"
   ]
  },
  {
   "cell_type": "code",
   "execution_count": 9,
   "id": "c479fbd6",
   "metadata": {
    "slideshow": {
     "slide_type": "-"
    },
    "tags": []
   },
   "outputs": [
    {
     "name": "stdout",
     "output_type": "stream",
     "text": [
      "Help on class range in module builtins:\n",
      "\n",
      "class range(object)\n",
      " |  range(stop) -> range object\n",
      " |  range(start, stop[, step]) -> range object\n",
      " |  \n",
      " |  Return an object that produces a sequence of integers from start (inclusive)\n",
      " |  to stop (exclusive) by step.  range(i, j) produces i, i+1, i+2, ..., j-1.\n",
      " |  start defaults to 0, and stop is omitted!  range(4) produces 0, 1, 2, 3.\n",
      " |  These are exactly the valid indices for a list of 4 elements.\n",
      " |  When step is given, it specifies the increment (or decrement).\n",
      " |  \n",
      " |  Methods defined here:\n",
      " |  \n",
      " |  __bool__(self, /)\n",
      " |      self != 0\n",
      " |  \n",
      " |  __contains__(self, key, /)\n",
      " |      Return key in self.\n",
      " |  \n",
      " |  __eq__(self, value, /)\n",
      " |      Return self==value.\n",
      " |  \n",
      " |  __ge__(self, value, /)\n",
      " |      Return self>=value.\n",
      " |  \n",
      " |  __getattribute__(self, name, /)\n",
      " |      Return getattr(self, name).\n",
      " |  \n",
      " |  __getitem__(self, key, /)\n",
      " |      Return self[key].\n",
      " |  \n",
      " |  __gt__(self, value, /)\n",
      " |      Return self>value.\n",
      " |  \n",
      " |  __hash__(self, /)\n",
      " |      Return hash(self).\n",
      " |  \n",
      " |  __iter__(self, /)\n",
      " |      Implement iter(self).\n",
      " |  \n",
      " |  __le__(self, value, /)\n",
      " |      Return self<=value.\n",
      " |  \n",
      " |  __len__(self, /)\n",
      " |      Return len(self).\n",
      " |  \n",
      " |  __lt__(self, value, /)\n",
      " |      Return self<value.\n",
      " |  \n",
      " |  __ne__(self, value, /)\n",
      " |      Return self!=value.\n",
      " |  \n",
      " |  __reduce__(...)\n",
      " |      Helper for pickle.\n",
      " |  \n",
      " |  __repr__(self, /)\n",
      " |      Return repr(self).\n",
      " |  \n",
      " |  __reversed__(...)\n",
      " |      Return a reverse iterator.\n",
      " |  \n",
      " |  count(...)\n",
      " |      rangeobject.count(value) -> integer -- return number of occurrences of value\n",
      " |  \n",
      " |  index(...)\n",
      " |      rangeobject.index(value) -> integer -- return index of value.\n",
      " |      Raise ValueError if the value is not present.\n",
      " |  \n",
      " |  ----------------------------------------------------------------------\n",
      " |  Static methods defined here:\n",
      " |  \n",
      " |  __new__(*args, **kwargs) from builtins.type\n",
      " |      Create and return a new object.  See help(type) for accurate signature.\n",
      " |  \n",
      " |  ----------------------------------------------------------------------\n",
      " |  Data descriptors defined here:\n",
      " |  \n",
      " |  start\n",
      " |  \n",
      " |  step\n",
      " |  \n",
      " |  stop\n",
      "\n"
     ]
    }
   ],
   "source": [
    "help(range)"
   ]
  },
  {
   "cell_type": "markdown",
   "id": "3e563775",
   "metadata": {
    "slideshow": {
     "slide_type": "slide"
    }
   },
   "source": [
    "## Assignment vs. Mutation\n",
    "\n",
    "Ok, the last thing for today is to understand the difference between <font color=red>assigning</font> a value to a new location in memory and <font color=red>mutating</font> a value that is already stored in memory."
   ]
  },
  {
   "cell_type": "markdown",
   "id": "783447f0",
   "metadata": {
    "slideshow": {
     "slide_type": "slide"
    }
   },
   "source": [
    "Assigning a value to a variable creates a new value in memory"
   ]
  },
  {
   "cell_type": "code",
   "execution_count": 11,
   "id": "92a3d82a",
   "metadata": {},
   "outputs": [
    {
     "data": {
      "text/plain": [
       "(3, 140481132685680)"
      ]
     },
     "execution_count": 11,
     "metadata": {},
     "output_type": "execute_result"
    }
   ],
   "source": [
    "# 'a' is assigned to the newly created value '3'\n",
    "# which is stored in memory at id(a)\n",
    "a = 3\n",
    "\n",
    "a, id(a)"
   ]
  },
  {
   "cell_type": "markdown",
   "id": "faba8578-4bb7-49e3-927a-27109dbee3fe",
   "metadata": {
    "slideshow": {
     "slide_type": "slide"
    }
   },
   "source": [
    "Multiple variables can refer to the same value in memory."
   ]
  },
  {
   "cell_type": "code",
   "execution_count": 12,
   "id": "57478910",
   "metadata": {
    "slideshow": {
     "slide_type": "-"
    }
   },
   "outputs": [
    {
     "data": {
      "text/plain": [
       "(3, 140481132685680, True)"
      ]
     },
     "execution_count": 12,
     "metadata": {},
     "output_type": "execute_result"
    }
   ],
   "source": [
    "# 'a' and 'b' refer to the same value\n",
    "# at the same place in memory\n",
    "a = 3\n",
    "b = a\n",
    "\n",
    "b, id(b), id(a) == id(b)"
   ]
  },
  {
   "cell_type": "markdown",
   "id": "11450362-558e-4fb6-9a5d-3d39be6e2848",
   "metadata": {
    "slideshow": {
     "slide_type": "slide"
    }
   },
   "source": [
    "If a variable already exists, assigning it a new value <font color=red>does NOT change the value in memory to which it previously refered</font>. Instead it creates a new value in memory and reassigns the variable to refer to the new value."
   ]
  },
  {
   "cell_type": "code",
   "execution_count": 13,
   "id": "eea91dfc",
   "metadata": {
    "slideshow": {
     "slide_type": "-"
    }
   },
   "outputs": [
    {
     "data": {
      "text/plain": [
       "(3, 2, 140481132685680, 140481132685648, False)"
      ]
     },
     "execution_count": 13,
     "metadata": {},
     "output_type": "execute_result"
    }
   ],
   "source": [
    "# 'b' is assigned to the newly created value '2'\n",
    "# which is stored in memory at id(b)\n",
    "# and does NOT change the memory at id(a) where '3' is stored\n",
    "a = 3\n",
    "b = a\n",
    "b = 2\n",
    "\n",
    "a, b, id(a), id(b), id(a) == id(b)"
   ]
  },
  {
   "cell_type": "markdown",
   "id": "68264a40",
   "metadata": {
    "slideshow": {
     "slide_type": "fragment"
    }
   },
   "source": [
    "If this were not the case, then setting **b=2** would also set **a=2** which would be unnatural and confusing behavior."
   ]
  },
  {
   "cell_type": "markdown",
   "id": "ceae9785",
   "metadata": {
    "slideshow": {
     "slide_type": "slide"
    }
   },
   "source": [
    "## Objects like lists are mutable (editable).\n",
    "\n",
    "When you mutate an object, you directly change the values stored in memory."
   ]
  },
  {
   "cell_type": "code",
   "execution_count": 70,
   "id": "3c95e0b0",
   "metadata": {
    "slideshow": {
     "slide_type": "-"
    }
   },
   "outputs": [
    {
     "data": {
      "text/plain": [
       "([1, 2, 3], [1, 2, 3], 140435505826880, 140435505826880, True)"
      ]
     },
     "execution_count": 70,
     "metadata": {},
     "output_type": "execute_result"
    }
   ],
   "source": [
    "# 'a' and 'b' both refer to the same part of memory containing the list\n",
    "a = [1, 2, 3]\n",
    "b = a\n",
    "\n",
    "a, b, id(a), id(b), id(a) == id(b)"
   ]
  },
  {
   "cell_type": "code",
   "execution_count": 71,
   "id": "cd7c678a",
   "metadata": {
    "slideshow": {
     "slide_type": "fragment"
    }
   },
   "outputs": [
    {
     "data": {
      "text/plain": [
       "([1, 10, 3], [1, 10, 3], 140435505826880, 140435505826880, True)"
      ]
     },
     "execution_count": 71,
     "metadata": {},
     "output_type": "execute_result"
    }
   ],
   "source": [
    "# we can edit the single list in memory via either 'a' or 'b'\n",
    "b[1] = 10\n",
    "\n",
    "a, b, id(a), id(b), id(a) == id(b)"
   ]
  },
  {
   "cell_type": "markdown",
   "id": "33fb9702",
   "metadata": {
    "slideshow": {
     "slide_type": "fragment"
    }
   },
   "source": [
    "This <font color=red>prevents wasteful copying</font> of potentially large collections of items, but we have to remember that <font color=red>editing **b** will ALSO edit **a**</font> because they refer to the same thing."
   ]
  },
  {
   "cell_type": "markdown",
   "id": "b8538348",
   "metadata": {
    "slideshow": {
     "slide_type": "slide"
    }
   },
   "source": [
    "Note that if we assign **b** to a new list, that is NOT the same as mutating/editing the items in the list."
   ]
  },
  {
   "cell_type": "code",
   "execution_count": 14,
   "id": "d06b0f97",
   "metadata": {
    "slideshow": {
     "slide_type": "-"
    }
   },
   "outputs": [
    {
     "data": {
      "text/plain": [
       "([1, 2, 3], [3, 4, 5], 140480870310528, 140480870341440, False)"
      ]
     },
     "execution_count": 14,
     "metadata": {},
     "output_type": "execute_result"
    }
   ],
   "source": [
    "a = [1, 2, 3]\n",
    "b = a\n",
    "\n",
    "# 'b' is now assigned to a newly created list somewhere else in memory\n",
    "b = [3, 4, 5]\n",
    "\n",
    "a, b, id(a), id(b), id(a) == id(b)"
   ]
  },
  {
   "cell_type": "markdown",
   "id": "020bbdb9-239d-4d96-9052-21093a339171",
   "metadata": {
    "slideshow": {
     "slide_type": "slide"
    }
   },
   "source": [
    "Unlike a list, a simple number cannot be mutated. The only way to change a number is to reassign it a new value. Thus, numbers are immutable.\n",
    "\n",
    "Make sure you understand the difference between <font color=red>assignment</font> and <font color=red>mutation</font>."
   ]
  },
  {
   "cell_type": "markdown",
   "id": "ddc6aeb3",
   "metadata": {
    "slideshow": {
     "slide_type": "slide"
    }
   },
   "source": [
    "## What things are mutable?\n",
    "\n",
    "**Immutable things:**\n",
    "\n",
    "* numbers\n",
    "* bools\n",
    "* basically just about any primitive value type\n",
    "\n",
    "**Mutable things:**\n",
    "\n",
    "* lists\n",
    "* classes\n",
    "* basically just about any object that contains a collection of values\n",
    "\n",
    "The above is just meant to give you an idea, not exhaustively define what is and isn't mutable in Python."
   ]
  },
  {
   "cell_type": "markdown",
   "id": "e4e1b2a2",
   "metadata": {
    "slideshow": {
     "slide_type": "slide"
    }
   },
   "source": [
    "## Copy\n",
    "\n",
    "What if we want to get a copy of a mutable object?"
   ]
  },
  {
   "cell_type": "code",
   "execution_count": 1,
   "id": "5823840c",
   "metadata": {
    "slideshow": {
     "slide_type": "-"
    }
   },
   "outputs": [
    {
     "data": {
      "text/plain": [
       "([1, 2, 3], [1, 2, 3], 140298868082816, 140298868082176, False)"
      ]
     },
     "execution_count": 1,
     "metadata": {},
     "output_type": "execute_result"
    }
   ],
   "source": [
    "# import the copy module\n",
    "# so we can use its functions\n",
    "import copy\n",
    "\n",
    "a = [1, 2, 3]\n",
    "b = copy.copy(a)  # nested objects are not copied\n",
    "c = copy.deepcopy(a)  # recursively copy all nested objects\n",
    "\n",
    "a, b, id(a), id(b), id(a) == id(b)"
   ]
  },
  {
   "cell_type": "code",
   "execution_count": 5,
   "id": "fcb55836-3c80-4eb9-aa8e-cf9814a855dc",
   "metadata": {
    "slideshow": {
     "slide_type": "fragment"
    }
   },
   "outputs": [],
   "source": [
    "# import the copy and deepcopy functions from the copy module\n",
    "from copy import copy, deepcopy\n",
    "\n",
    "b = copy(a)  # nested objects are not copied\n",
    "c = deepcopy(a)  # recursively copy all nested objects"
   ]
  },
  {
   "cell_type": "markdown",
   "id": "305a803b",
   "metadata": {
    "slideshow": {
     "slide_type": "slide"
    }
   },
   "source": [
    "## Tuple\n",
    "\n",
    "An `immutable` (i.e. unchangeable) list."
   ]
  },
  {
   "cell_type": "code",
   "execution_count": 74,
   "id": "a428f1d6",
   "metadata": {},
   "outputs": [
    {
     "data": {
      "text/plain": [
       "(1, 2, 3)"
      ]
     },
     "execution_count": 74,
     "metadata": {},
     "output_type": "execute_result"
    }
   ],
   "source": [
    "a = (1, 2, 3)\n",
    "a"
   ]
  },
  {
   "cell_type": "code",
   "execution_count": 75,
   "id": "9ba90ef2",
   "metadata": {
    "slideshow": {
     "slide_type": "fragment"
    }
   },
   "outputs": [
    {
     "ename": "TypeError",
     "evalue": "'tuple' object does not support item assignment",
     "output_type": "error",
     "traceback": [
      "\u001b[0;31m---------------------------------------------------------------------------\u001b[0m",
      "\u001b[0;31mTypeError\u001b[0m                                 Traceback (most recent call last)",
      "\u001b[0;32m<ipython-input-75-7d02990d0abc>\u001b[0m in \u001b[0;36m<module>\u001b[0;34m\u001b[0m\n\u001b[0;32m----> 1\u001b[0;31m \u001b[0ma\u001b[0m\u001b[0;34m[\u001b[0m\u001b[0;36m0\u001b[0m\u001b[0;34m]\u001b[0m \u001b[0;34m=\u001b[0m \u001b[0;36m0\u001b[0m\u001b[0;34m\u001b[0m\u001b[0;34m\u001b[0m\u001b[0m\n\u001b[0m",
      "\u001b[0;31mTypeError\u001b[0m: 'tuple' object does not support item assignment"
     ]
    }
   ],
   "source": [
    "a[0] = 0"
   ]
  },
  {
   "cell_type": "code",
   "execution_count": 76,
   "id": "96813255",
   "metadata": {
    "slideshow": {
     "slide_type": "fragment"
    }
   },
   "outputs": [
    {
     "data": {
      "text/plain": [
       "[0, 2, 3]"
      ]
     },
     "execution_count": 76,
     "metadata": {},
     "output_type": "execute_result"
    }
   ],
   "source": [
    "a = list(a)\n",
    "a[0] = 0\n",
    "a"
   ]
  },
  {
   "cell_type": "markdown",
   "id": "26622c89",
   "metadata": {
    "slideshow": {
     "slide_type": "slide"
    }
   },
   "source": [
    "## Dictionary\n",
    "\n",
    "A colleciton of (Key, Value) pairs.\n",
    "\n",
    "We won't use this as much as lists, so I'll mostly leave this to you to explore."
   ]
  },
  {
   "cell_type": "code",
   "execution_count": 19,
   "id": "7b2819cc",
   "metadata": {},
   "outputs": [
    {
     "data": {
      "text/plain": [
       "{'city': 'Austin'}"
      ]
     },
     "execution_count": 19,
     "metadata": {},
     "output_type": "execute_result"
    }
   ],
   "source": [
    "key = \"city\"\n",
    "value = \"Austin\"\n",
    "\n",
    "mydict = {key: value}\n",
    "mydict"
   ]
  },
  {
   "cell_type": "code",
   "execution_count": 20,
   "id": "804debaf",
   "metadata": {
    "slideshow": {
     "slide_type": "-"
    }
   },
   "outputs": [
    {
     "data": {
      "text/plain": [
       "{'city': 'Houston', 200: [1, 3.14]}"
      ]
     },
     "execution_count": 20,
     "metadata": {},
     "output_type": "execute_result"
    }
   ],
   "source": [
    "mydict[key] = \"Houston\"\n",
    "mydict[200] = [1, 3.14]\n",
    "mydict"
   ]
  },
  {
   "cell_type": "markdown",
   "id": "bd74af00-401c-47dd-a97b-305f0e7b2a7b",
   "metadata": {
    "slideshow": {
     "slide_type": "slide"
    }
   },
   "source": [
    "## Summary of the primary learning objectives\n",
    "\n",
    "* Variable names\n",
    "* How Python organizes code into blocks\n",
    "* if/elif/else blocks\n",
    "* List indexing and slicing\n",
    "* for/while loops\n",
    "* Assignment vs. Mutation"
   ]
  },
  {
   "cell_type": "markdown",
   "id": "2b8f9665",
   "metadata": {
    "slideshow": {
     "slide_type": "slide"
    }
   },
   "source": [
    "## 1, 2, 3, ... let's code!\n",
    "\n",
    "OK, you've seen the basics and are ready to jump in and start coding!\n",
    "\n",
    "Note, however, that there are still a few more features of Python that I consider fundamental that we will cover later such as **functions**, **classes** and **modules**."
   ]
  }
 ],
 "metadata": {
  "celltoolbar": "Slideshow",
  "kernelspec": {
   "display_name": "Python 3",
   "language": "python",
   "name": "python3"
  },
  "language_info": {
   "codemirror_mode": {
    "name": "ipython",
    "version": 3
   },
   "file_extension": ".py",
   "mimetype": "text/x-python",
   "name": "python",
   "nbconvert_exporter": "python",
   "pygments_lexer": "ipython3",
   "version": "3.9.5"
  }
 },
 "nbformat": 4,
 "nbformat_minor": 5
}
