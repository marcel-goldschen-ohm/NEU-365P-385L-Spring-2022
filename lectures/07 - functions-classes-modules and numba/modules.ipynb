{
 "cells": [
  {
   "cell_type": "markdown",
   "metadata": {
    "slideshow": {
     "slide_type": "slide"
    }
   },
   "source": [
    "# Modules\n",
    "\n",
    "Modules are `*.py` Python files that contain a collection of any kind of Python objects such as attributes, functions and classes.\n",
    "\n",
    "A `*.py` file is just a standard text file in which you write Python code.\n",
    "\n",
    "You can import modules in order to use the objects that they contain."
   ]
  },
  {
   "cell_type": "markdown",
   "metadata": {},
   "source": [
    "## MyNeuron module\n",
    "\n",
    "Module `MyNeuron.py` contains a defintion for the class `MySpikingNeuron`."
   ]
  },
  {
   "cell_type": "code",
   "execution_count": 1,
   "metadata": {},
   "outputs": [],
   "source": [
    "import MyNeuron\n",
    "\n",
    "neuronA = MyNeuron.MySpikingNeuron(10)\n",
    "neuronB = MyNeuron.MySpikingNeuron(100)"
   ]
  },
  {
   "cell_type": "code",
   "execution_count": 2,
   "metadata": {},
   "outputs": [],
   "source": [
    "import MyNeuron as mn\n",
    "\n",
    "neuronA = mn.MySpikingNeuron(10)\n",
    "neuronB = mn.MySpikingNeuron(100)"
   ]
  },
  {
   "cell_type": "markdown",
   "metadata": {},
   "source": [
    "Sometimes it is more convenient to only import specific objects from the module."
   ]
  },
  {
   "cell_type": "code",
   "execution_count": 3,
   "metadata": {},
   "outputs": [],
   "source": [
    "from MyNeuron import MySpikingNeuron\n",
    "\n",
    "neuronA = MySpikingNeuron(10)\n",
    "neuronB = MySpikingNeuron(100)"
   ]
  },
  {
   "cell_type": "markdown",
   "metadata": {
    "slideshow": {
     "slide_type": "slide"
    }
   },
   "source": [
    "You have access to everything in the module."
   ]
  },
  {
   "cell_type": "code",
   "execution_count": 4,
   "metadata": {},
   "outputs": [],
   "source": [
    "import MyNeuron2"
   ]
  },
  {
   "cell_type": "code",
   "execution_count": 5,
   "metadata": {},
   "outputs": [
    {
     "data": {
      "text/plain": [
       "'hippocampus'"
      ]
     },
     "execution_count": 5,
     "metadata": {},
     "output_type": "execute_result"
    }
   ],
   "source": [
    "MyNeuron2.brainRegion"
   ]
  },
  {
   "cell_type": "code",
   "execution_count": 6,
   "metadata": {},
   "outputs": [
    {
     "data": {
      "text/plain": [
       "[<MyNeuron2.MySpikingNeuron at 0x7f97e7502d90>,\n",
       " <MyNeuron2.MySpikingNeuron at 0x7f97e75020a0>,\n",
       " <MyNeuron2.MySpikingNeuron at 0x7f97e7502b20>]"
      ]
     },
     "execution_count": 6,
     "metadata": {},
     "output_type": "execute_result"
    }
   ],
   "source": [
    "neurons = MyNeuron2.createThreeRandomNeurons()\n",
    "\n",
    "neurons"
   ]
  },
  {
   "cell_type": "code",
   "execution_count": 8,
   "metadata": {},
   "outputs": [
    {
     "name": "stdout",
     "output_type": "stream",
     "text": [
      "14.392992990671242\n",
      "79.87436658851881\n",
      "19.06372299185187\n"
     ]
    }
   ],
   "source": [
    "for neuron in neurons:\n",
    "    print(neuron.spikeRatePerSec)"
   ]
  },
  {
   "cell_type": "markdown",
   "metadata": {
    "slideshow": {
     "slide_type": "slide"
    }
   },
   "source": [
    "## Nested modules\n",
    "\n",
    "`MyNeuron3` does not directly contain the definition for the `MySpikingNeuron` class.\n",
    "\n",
    "Instead, `MyNeuron3` itself imports `MyNeuron`."
   ]
  },
  {
   "cell_type": "code",
   "execution_count": 7,
   "metadata": {
    "slideshow": {
     "slide_type": "-"
    }
   },
   "outputs": [],
   "source": [
    "import MyNeuron3"
   ]
  },
  {
   "cell_type": "code",
   "execution_count": 9,
   "metadata": {},
   "outputs": [
    {
     "ename": "AttributeError",
     "evalue": "module 'MyNeuron3' has no attribute 'MySpikingNeuron'",
     "output_type": "error",
     "traceback": [
      "\u001b[0;31m---------------------------------------------------------------------------\u001b[0m",
      "\u001b[0;31mAttributeError\u001b[0m                            Traceback (most recent call last)",
      "\u001b[0;32m/var/folders/k1/swt2sp1x6mj7wyc2cs76qq4m0000gn/T/ipykernel_49081/2026772876.py\u001b[0m in \u001b[0;36m<module>\u001b[0;34m\u001b[0m\n\u001b[0;32m----> 1\u001b[0;31m \u001b[0mneuron\u001b[0m \u001b[0;34m=\u001b[0m \u001b[0mMyNeuron3\u001b[0m\u001b[0;34m.\u001b[0m\u001b[0mMySpikingNeuron\u001b[0m\u001b[0;34m(\u001b[0m\u001b[0;36m10\u001b[0m\u001b[0;34m)\u001b[0m\u001b[0;34m\u001b[0m\u001b[0;34m\u001b[0m\u001b[0m\n\u001b[0m\u001b[1;32m      2\u001b[0m \u001b[0mneuron\u001b[0m\u001b[0;34m\u001b[0m\u001b[0;34m\u001b[0m\u001b[0m\n",
      "\u001b[0;31mAttributeError\u001b[0m: module 'MyNeuron3' has no attribute 'MySpikingNeuron'"
     ]
    }
   ],
   "source": [
    "neuron = MyNeuron3.MySpikingNeuron(10)\n",
    "neuron"
   ]
  },
  {
   "cell_type": "code",
   "execution_count": 10,
   "metadata": {},
   "outputs": [
    {
     "data": {
      "text/plain": [
       "<MyNeuron.MySpikingNeuron at 0x7f97e7139f10>"
      ]
     },
     "execution_count": 10,
     "metadata": {},
     "output_type": "execute_result"
    }
   ],
   "source": [
    "neuron = MyNeuron3.MyNeuron.MySpikingNeuron(10)\n",
    "neuron"
   ]
  },
  {
   "cell_type": "code",
   "execution_count": 11,
   "metadata": {},
   "outputs": [
    {
     "data": {
      "text/plain": [
       "[<MyNeuron.MySpikingNeuron at 0x7f97e7523190>,\n",
       " <MyNeuron.MySpikingNeuron at 0x7f97e7523160>,\n",
       " <MyNeuron.MySpikingNeuron at 0x7f97e7523100>]"
      ]
     },
     "execution_count": 11,
     "metadata": {},
     "output_type": "execute_result"
    }
   ],
   "source": [
    "neurons = MyNeuron3.createThreeRandomNeurons()\n",
    "\n",
    "neurons"
   ]
  },
  {
   "cell_type": "code",
   "execution_count": null,
   "metadata": {},
   "outputs": [],
   "source": []
  }
 ],
 "metadata": {
  "celltoolbar": "Slideshow",
  "kernelspec": {
   "display_name": "Python 3 (ipykernel)",
   "language": "python",
   "name": "python3"
  },
  "language_info": {
   "codemirror_mode": {
    "name": "ipython",
    "version": 3
   },
   "file_extension": ".py",
   "mimetype": "text/x-python",
   "name": "python",
   "nbconvert_exporter": "python",
   "pygments_lexer": "ipython3",
   "version": "3.9.5"
  }
 },
 "nbformat": 4,
 "nbformat_minor": 4
}
