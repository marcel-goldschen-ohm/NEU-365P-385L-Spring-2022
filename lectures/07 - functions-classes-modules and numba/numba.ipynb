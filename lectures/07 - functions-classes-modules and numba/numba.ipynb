{
 "cells": [
  {
   "cell_type": "markdown",
   "metadata": {
    "slideshow": {
     "slide_type": "slide"
    }
   },
   "source": [
    "# Optimization with Numba\n",
    "\n",
    "Let's accelerate functions with Python loops and NumPy computations!\n",
    "\n",
    "`conda install numba`\n",
    "\n",
    "[A quick intro.](https://numba.pydata.org/numba-doc/dev/user/5minguide.html)"
   ]
  },
  {
   "cell_type": "markdown",
   "metadata": {
    "slideshow": {
     "slide_type": "slide"
    }
   },
   "source": [
    "## Example: Bubble Sort Algorithm\n",
    "\n",
    "Sort a list of items by repeatedly swapping pairs of items that are out of order until the list is sorted.\n",
    "\n",
    "![Bubble Sort](images/bubblesort.png)"
   ]
  },
  {
   "cell_type": "markdown",
   "metadata": {
    "slideshow": {
     "slide_type": "slide"
    }
   },
   "source": [
    "A simple function implementing the bubblesort algorithm:"
   ]
  },
  {
   "cell_type": "code",
   "execution_count": 1,
   "metadata": {},
   "outputs": [],
   "source": [
    "def bubbleSort(items):\n",
    "    numItems = len(items)\n",
    "    isSorted = False\n",
    "    \n",
    "    while not isSorted:\n",
    "        # assume sorted until we swap something\n",
    "        isSorted = True\n",
    "        \n",
    "        # for each pair of items\n",
    "        for i in range(numItems-1):\n",
    "            if items[i+1] < items[i]:\n",
    "                # swap out-of-order items\n",
    "                items[i], items[i+1] = items[i+1], items[i]\n",
    "                isSorted = False"
   ]
  },
  {
   "cell_type": "markdown",
   "metadata": {
    "slideshow": {
     "slide_type": "slide"
    }
   },
   "source": [
    "Verify the function works:"
   ]
  },
  {
   "cell_type": "code",
   "execution_count": 2,
   "metadata": {},
   "outputs": [
    {
     "name": "stdout",
     "output_type": "stream",
     "text": [
      "unsorted: [5 4 5 3 8 4 4 7 1 7 7 2 2 1 1 4 0 1 2 2]\n",
      "sorted: [0 1 1 1 1 2 2 2 2 3 4 4 4 4 5 5 7 7 7 8]\n"
     ]
    }
   ],
   "source": [
    "import numpy as np\n",
    "items = np.random.randint(0, 10, (20,))\n",
    "print('unsorted:', items)\n",
    "bubbleSort(items)\n",
    "print('sorted:', items)"
   ]
  },
  {
   "cell_type": "markdown",
   "metadata": {},
   "source": [
    "The function involves a lot of loops, which are `slow in pure Python`.\n",
    "\n",
    "Fortunately, `Numba` can probably make the function `much faster` without you having to think about it much.\n",
    "\n",
    "!!! Note that the function definitions for `bubbleSort` and `bubbleSortNumba` are <font color=red>**EXACTLY THE SAME**</font>. All we did was add `@numba.jit` to the line preceeding the function definition."
   ]
  },
  {
   "cell_type": "code",
   "execution_count": 3,
   "metadata": {},
   "outputs": [],
   "source": [
    "import numba"
   ]
  },
  {
   "cell_type": "code",
   "execution_count": 4,
   "metadata": {},
   "outputs": [],
   "source": [
    "@numba.jit\n",
    "def bubbleSortNumba(items):\n",
    "    numItems = len(items)\n",
    "    isSorted = False\n",
    "    \n",
    "    while not isSorted:\n",
    "        # assume sorted until we swap something\n",
    "        isSorted = True\n",
    "        \n",
    "        # for each pair of items\n",
    "        for i in range(numItems-1):\n",
    "            if items[i+1] < items[i]:\n",
    "                # swap out-of-order items\n",
    "                items[i], items[i+1] = items[i+1], items[i]\n",
    "                isSorted = False"
   ]
  },
  {
   "cell_type": "markdown",
   "metadata": {},
   "source": [
    "Let's see how fast the Python and Numba versions of the bubblesort function are at sorting a larger array."
   ]
  },
  {
   "cell_type": "code",
   "execution_count": 5,
   "metadata": {},
   "outputs": [],
   "source": [
    "items = np.random.random(5000)"
   ]
  },
  {
   "cell_type": "code",
   "execution_count": 6,
   "metadata": {},
   "outputs": [
    {
     "name": "stdout",
     "output_type": "stream",
     "text": [
      "1.45 ms ± 261 µs per loop (mean ± std. dev. of 7 runs, 1 loop each)\n"
     ]
    }
   ],
   "source": [
    "%timeit bubbleSort(items)  # python only"
   ]
  },
  {
   "cell_type": "code",
   "execution_count": 7,
   "metadata": {
    "slideshow": {
     "slide_type": "fragment"
    }
   },
   "outputs": [
    {
     "name": "stdout",
     "output_type": "stream",
     "text": [
      "11.8 µs ± 2.61 µs per loop (mean ± std. dev. of 7 runs, 1 loop each)\n"
     ]
    }
   ],
   "source": [
    "%timeit bubbleSortNumba(items)  # numba"
   ]
  },
  {
   "cell_type": "markdown",
   "metadata": {
    "slideshow": {
     "slide_type": "fragment"
    }
   },
   "source": [
    "The Numba version is roughly `100x faster` than the pure Python version, and `we didn't have to do any optimization ourselves`.\n",
    "\n",
    "You might not care if you are sorting an array of only 5000 items, but your opinion may change quickly for a much larger array."
   ]
  },
  {
   "cell_type": "markdown",
   "metadata": {},
   "source": [
    "!!! Numba is NOT garaunteed to speed up ANY function.\n",
    "\n",
    "Numba is primarily designed to speed up functions that contain `Python loops` and use `NumPy`.\n",
    "\n",
    "For functions where this is not the case, Numba may not be much or any help.\n",
    "\n",
    "Fortunately, this IS the case quite often."
   ]
  },
  {
   "cell_type": "code",
   "execution_count": null,
   "metadata": {},
   "outputs": [],
   "source": []
  }
 ],
 "metadata": {
  "celltoolbar": "Slideshow",
  "kernelspec": {
   "display_name": "Python 3 (ipykernel)",
   "language": "python",
   "name": "python3"
  },
  "language_info": {
   "codemirror_mode": {
    "name": "ipython",
    "version": 3
   },
   "file_extension": ".py",
   "mimetype": "text/x-python",
   "name": "python",
   "nbconvert_exporter": "python",
   "pygments_lexer": "ipython3",
   "version": "3.9.5"
  }
 },
 "nbformat": 4,
 "nbformat_minor": 4
}
