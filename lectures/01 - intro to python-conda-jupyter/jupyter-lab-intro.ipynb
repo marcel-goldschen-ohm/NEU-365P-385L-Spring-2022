{
 "cells": [
  {
   "cell_type": "markdown",
   "id": "866384e0-9269-4701-82cc-ee3955a0db72",
   "metadata": {},
   "source": [
    "# A brief introduction to JupyterLab\n",
    "\n",
    "I'll show you the most basic things here, the rest is up to you to explore on your own.\n",
    "\n",
    "If you discover anything you feel to be very useful, please share with the class on the `discussion board`."
   ]
  },
  {
   "cell_type": "markdown",
   "id": "28ce2351-5e3c-48e3-a64e-5815bcd28d12",
   "metadata": {},
   "source": [
    "---\n",
    "### 1. File Browser\n",
    "\n",
    "* Notebook *.ipynb files\n",
    "* Create new notebook file"
   ]
  },
  {
   "cell_type": "markdown",
   "id": "1c2679c9-c196-4364-863d-61ebf72b96be",
   "metadata": {},
   "source": [
    "---\n",
    "### 2. Cells\n",
    "\n",
    "* Add/Remove/Move\n",
    "* Code/Markdown/Raw\n",
    "* Show/Hide cells"
   ]
  },
  {
   "cell_type": "markdown",
   "id": "949250f1-bf7a-4e3b-a87f-2aef7ac3cb9b",
   "metadata": {},
   "source": [
    "---\n",
    "### 3. Run Cells\n",
    "\n",
    "`Shift` + `Enter`\n",
    "\n",
    "* Output\n",
    "* Show/Hide output\n",
    "* Order or execution"
   ]
  },
  {
   "cell_type": "code",
   "execution_count": null,
   "id": "d9556ade-6b96-4991-a563-a66d5c0947ff",
   "metadata": {},
   "outputs": [],
   "source": [
    "x = 80 + 5"
   ]
  },
  {
   "cell_type": "code",
   "execution_count": null,
   "id": "3de11d51-4055-43d5-8243-c7396965b81d",
   "metadata": {
    "tags": []
   },
   "outputs": [],
   "source": [
    "x"
   ]
  },
  {
   "cell_type": "code",
   "execution_count": null,
   "id": "6c659a92-d6fb-4e8c-babb-72a87b0fc91a",
   "metadata": {},
   "outputs": [],
   "source": [
    "x = 6 * 7\n",
    "x"
   ]
  },
  {
   "cell_type": "markdown",
   "id": "8f74f22e-1a45-4bb5-beb0-8f04681770cb",
   "metadata": {},
   "source": [
    "Re-execute the cell that just displays the value of x."
   ]
  },
  {
   "cell_type": "markdown",
   "id": "bd5b0ec2-08c8-4ae8-9bca-73992670f54a",
   "metadata": {},
   "source": [
    "---\n",
    "### 4. In progress indicator\n",
    "\n",
    "* Abort\n",
    "* Restart kernel"
   ]
  },
  {
   "cell_type": "code",
   "execution_count": null,
   "id": "64f8542c-9f30-4105-acbb-30adeb5ed214",
   "metadata": {},
   "outputs": [],
   "source": [
    "while True:\n",
    "    pass"
   ]
  },
  {
   "cell_type": "markdown",
   "id": "869a74db-a621-4562-9eb2-924124e4da0e",
   "metadata": {
    "tags": []
   },
   "source": [
    "---\n",
    "### 5. Run entire notebook"
   ]
  },
  {
   "cell_type": "markdown",
   "id": "d384e524-2882-4228-a0b8-3e1572a0937b",
   "metadata": {},
   "source": [
    "---\n",
    "### 6. Open a terminal\n",
    "\n",
    "`conda --help`"
   ]
  }
 ],
 "metadata": {
  "kernelspec": {
   "display_name": "Python 3",
   "language": "python",
   "name": "python3"
  },
  "language_info": {
   "codemirror_mode": {
    "name": "ipython",
    "version": 3
   },
   "file_extension": ".py",
   "mimetype": "text/x-python",
   "name": "python",
   "nbconvert_exporter": "python",
   "pygments_lexer": "ipython3",
   "version": "3.9.5"
  }
 },
 "nbformat": 4,
 "nbformat_minor": 5
}
