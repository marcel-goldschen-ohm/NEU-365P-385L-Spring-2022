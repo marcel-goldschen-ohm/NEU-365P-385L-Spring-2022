{
 "cells": [
  {
   "cell_type": "markdown",
   "id": "da9bf46b-f07e-4625-9f0a-7035f2cb2526",
   "metadata": {
    "tags": []
   },
   "source": [
    "# Homework (15 pts) - Hypothesis Testing"
   ]
  },
  {
   "cell_type": "markdown",
   "id": "e95b798e-28dd-4cd9-b22c-c91c01b2a4d3",
   "metadata": {},
   "source": [
    "---\n",
    "1. You measure the duration of high frequency bursts of action potentials under two different experimental conditions (call them conditions A and B). Based on your measured data (see below), decide whether or not the conditions affect the mean burst duration. See 1a-d below."
   ]
  },
  {
   "cell_type": "code",
   "execution_count": null,
   "id": "3f3ab658-5806-45a0-9432-9b6ad272f793",
   "metadata": {},
   "outputs": [],
   "source": [
    "# burst durations in milliseconds for conditions A and B\n",
    "import numpy as np\n",
    "burstDursA = np.array([180.38809356, 118.54316518,  47.36070342, 258.43152543,\n",
    "       157.58441772,  53.00241256,  97.87549106,  98.58339172,\n",
    "         3.82151168, 149.63437886,  78.36434292, 207.1499196 ,\n",
    "       249.99308288,  52.33575872, 177.16295745,  20.90902826,\n",
    "       355.53831638,  17.14676607, 194.82448255, 364.30099202,\n",
    "        10.46025411,  63.80995802, 186.96964679,  16.76391482,\n",
    "        66.04825185, 169.95991378, 174.85051452,  95.51534595,\n",
    "       164.81818483, 165.92316127,  21.99840476, 176.27450914,\n",
    "       367.20238806,  53.55081561,  18.54310649, 309.36915353,\n",
    "        34.8110391 , 170.70514854,   4.80755719, 185.70861565,\n",
    "        42.81031454,  77.63480453,  22.78673497,  27.15480627,\n",
    "        81.19289909,   7.5754338 , 143.53588895,   1.45355329,\n",
    "        56.93153072,  35.7227909 , 120.88947208, 268.68459917,\n",
    "        36.56451611, 335.29492244,  18.88246351, 698.21607381,\n",
    "        47.24456065,  68.47935918, 246.50352868,  39.17939247,\n",
    "       130.00962739,  12.63485608,  16.5060213 ,  85.73872575,\n",
    "        30.34193446,  12.18596266, 133.13145381,  39.68448593,\n",
    "       227.5104642 , 274.45272375, 167.76767172,  23.93871685,\n",
    "       319.05649273,   6.3491122 ,  35.14797547, 170.29631475,\n",
    "        33.54342976,   2.71282041, 134.5042415 ,  42.498552  ,\n",
    "       144.87658813, 122.78633957,  46.58727698, 143.74260009,\n",
    "        27.95191179, 462.66535543, 187.17111074,  21.05730056,\n",
    "        27.92875799,  73.0405984 , 137.67114744,  25.51076087,\n",
    "        68.71066451, 188.46823412,  20.58525518,  18.06289499,\n",
    "       388.79209834,   9.42246312, 270.11609469,  20.51123798])\n",
    "burstDursB = np.array([ 19.1579061 , 103.28099491, 155.40048778,  54.00532297,\n",
    "        19.60552475,  38.33218511, 172.39377537, 100.60095889,\n",
    "       123.39067736,  32.30752807, 140.81577413,  10.03036383,\n",
    "        76.95250023, 111.4112118 , 106.77958145, 100.03741994,\n",
    "        54.40736747, 169.72641863, 170.51048794,  84.31738796,\n",
    "        32.48573515,  71.14968724,  18.07487628,  48.27775752,\n",
    "       249.00817236,  40.88078534, 149.55876359, 171.68318734,\n",
    "        64.7972247 , 179.67199065, 211.24354393,  49.54367304,\n",
    "         5.97816835, 270.82356699,  99.33133967,  14.35603709,\n",
    "        61.8917307 ,  48.13722571,  65.23703418, 119.95425274,\n",
    "        64.3948595 ,  57.40459219,  18.76680104,  37.37173184,\n",
    "       143.4622583 ,  21.6463496 ,  45.86107014,   3.98511098,\n",
    "        11.8424448 , 105.59224929,  71.49909777,  29.64941255,\n",
    "       117.62835465,  31.33284437, 124.17263642, 249.31437673,\n",
    "        92.15958114,  66.2842341 ,   5.01333126,  18.53478564,\n",
    "        44.09316335, 119.8752612 ,  52.31171617,   3.03888107,\n",
    "       109.94031571,   5.52411681,  43.88839751,  48.63036147,\n",
    "        22.71317076,  30.20052081,  32.10942778, 117.08796453,\n",
    "        53.83369891,  68.82006208,  92.29204674,  93.829404  ,\n",
    "         0.67985216,  10.42751195,   4.35827727, 127.21452508,\n",
    "        42.69414115,  34.9520911 ,  20.16096766, 178.44190716,\n",
    "        43.04340469,  89.11997718, 163.48474361, 277.29716851,\n",
    "        17.08902205, 103.74782303,  49.29308393,  72.1459098 ,\n",
    "        11.4600829 ,   4.09194418,  51.55511185,  91.81103802,\n",
    "        31.36955782,  23.24407568,  90.13594215,  69.37118937])"
   ]
  },
  {
   "cell_type": "markdown",
   "id": "71288a9b-24f8-4f9b-b268-c354fbeffa1e",
   "metadata": {},
   "source": [
    "1a. (1 pt) State the null and alternative hypotheses."
   ]
  },
  {
   "cell_type": "markdown",
   "id": "f0b91ddf-81fb-48a2-8673-28667168a508",
   "metadata": {},
   "source": []
  },
  {
   "cell_type": "markdown",
   "id": "70ebc070-4951-40b7-af9c-3f2ebc1ffefb",
   "metadata": {},
   "source": [
    "1b. (2 ps) Plot the burst duration distributions for conditions A and B overlaid on each other."
   ]
  },
  {
   "cell_type": "code",
   "execution_count": null,
   "id": "d1c038b2-19c3-4191-b533-27e97fad09e0",
   "metadata": {},
   "outputs": [],
   "source": []
  },
  {
   "cell_type": "markdown",
   "id": "f33eca85-3e45-4948-ace8-6b822f21f6b2",
   "metadata": {},
   "source": [
    "1c. (3 pts) Use a permutation test with 1000 permutations to test your null hypothesis. Compute the difference between the means for conditions A and B for each permutation. *You don't need to plot anything here, see next question for that.*"
   ]
  },
  {
   "cell_type": "code",
   "execution_count": null,
   "id": "055dad27-6303-47b3-b845-8a3d22a81161",
   "metadata": {},
   "outputs": [],
   "source": []
  },
  {
   "cell_type": "markdown",
   "id": "f4f56808-8200-4aca-b54c-a24b7a3325b3",
   "metadata": {},
   "source": [
    "1d. (3 pts) Plot the distribution of permuted statistics (difference between the means for conditions A and B) and indicate with a vertical line the measured difference between the means for conditions A and B. Also indicate with dashed vertical lines the 95% confidence interval for the permuted differences. Finally, accept or reject your null hypothesis."
   ]
  },
  {
   "cell_type": "code",
   "execution_count": null,
   "id": "945a6fa1-6d16-4f89-9545-e932a4c589e8",
   "metadata": {},
   "outputs": [],
   "source": []
  },
  {
   "cell_type": "markdown",
   "id": "05089f9c-4d42-4a35-8318-e68bd750e3ec",
   "metadata": {},
   "source": [
    "---\n",
    "2. For the same neuron as in #1 above, you measure the durations of bursts of action potentials under a third set of conditions (condition C). For condition C, the standard deviation of burst durations is 100 ms. As compared to condition A, does condition C affect the variability (i.e. standard deviation) in burst durations? See 2a-b below."
   ]
  },
  {
   "cell_type": "markdown",
   "id": "193b69c8-3c79-4006-b239-41c0374b2629",
   "metadata": {},
   "source": [
    "2a. (3 pts) Compute 1000 bootstrapped standard deviations for resampled burst durations in condition A. *You don't need to plot anything yet.*"
   ]
  },
  {
   "cell_type": "code",
   "execution_count": null,
   "id": "ef597964-7883-483f-94a3-6092821616b3",
   "metadata": {},
   "outputs": [],
   "source": []
  },
  {
   "cell_type": "markdown",
   "id": "95450948-b5eb-4d9e-8e12-34bb59bfb412",
   "metadata": {},
   "source": [
    "2b. (3 pts) Compute the 95% confindence interval for your bootstrapped distribution of standard deviations. Plot the distiribution and indicate with vertical lines the 95% confidence interval for the burst durations in condition A and also the measured standard deviation of burst durations for condition C. Finally, accept or reject the null hypothesis that condition C does not affect burst duration variability (i.e., standard deviation)as compared to condition A."
   ]
  },
  {
   "cell_type": "code",
   "execution_count": null,
   "id": "02081a54-d1a6-4652-9141-93c1af0b4e99",
   "metadata": {},
   "outputs": [],
   "source": []
  }
 ],
 "metadata": {
  "kernelspec": {
   "display_name": "Python 3 (ipykernel)",
   "language": "python",
   "name": "python3"
  },
  "language_info": {
   "codemirror_mode": {
    "name": "ipython",
    "version": 3
   },
   "file_extension": ".py",
   "mimetype": "text/x-python",
   "name": "python",
   "nbconvert_exporter": "python",
   "pygments_lexer": "ipython3",
   "version": "3.9.5"
  }
 },
 "nbformat": 4,
 "nbformat_minor": 5
}
