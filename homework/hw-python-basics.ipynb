{
 "cells": [
  {
   "cell_type": "markdown",
   "id": "c04ca852-f89e-4d22-846b-9b854038187b",
   "metadata": {},
   "source": [
    "# Homework (15 pts): Python basics"
   ]
  },
  {
   "cell_type": "markdown",
   "id": "d19a94ac-ef29-438c-b273-204898d902f8",
   "metadata": {},
   "source": [
    "---\n",
    "1. (3 pts) Use list slicing to make a new array `everyOther` that includes every other number in `nums`."
   ]
  },
  {
   "cell_type": "code",
   "execution_count": null,
   "id": "ea772846-b6ef-4e61-8879-391f78125ee0",
   "metadata": {},
   "outputs": [],
   "source": [
    "nums = [0, 2, 3, -1, 7, 14, 22]\n",
    "\n",
    "# make new array with every other number...\n",
    "everyOther = \n",
    "\n",
    "# see the results\n",
    "print(everyOther)"
   ]
  },
  {
   "cell_type": "markdown",
   "id": "8b83a942-2de5-4293-a6bf-53c37df48557",
   "metadata": {},
   "source": [
    "---\n",
    "2. (3 pts) Use a for loop to iterate over the numbers in `nums` and append each number to the appropriate `evens` or `odds` list."
   ]
  },
  {
   "cell_type": "code",
   "execution_count": null,
   "id": "92d5b41c-96e7-47c0-8257-f8e1a89f4db6",
   "metadata": {},
   "outputs": [],
   "source": [
    "nums = [0, 2, 3, -1, 7, 14, 22]\n",
    "evens = []\n",
    "odds = []\n",
    "\n",
    "# use for loop to fill empty evens and odds lists...\n",
    "\n",
    "\n",
    "# see the results\n",
    "print(evens)\n",
    "print(odds)"
   ]
  },
  {
   "cell_type": "markdown",
   "id": "86a14314-6547-484c-b28f-91e654fce7d2",
   "metadata": {},
   "source": [
    "---\n",
    "3. (3 pts) Swap the first and last numbers in `nums`. !!! You need to change the original `nums` list in memory, NOT simply create a new list with swapped values."
   ]
  },
  {
   "cell_type": "code",
   "execution_count": null,
   "id": "9ecc40b8-8b6b-48ca-bf8a-422fc5013767",
   "metadata": {},
   "outputs": [],
   "source": [
    "nums = [0, 2, 3, -1, 7, 14, 22]\n",
    "\n",
    "# swap the first and last numbers...\n",
    "\n",
    "\n",
    "# see the results\n",
    "print(nums)"
   ]
  },
  {
   "cell_type": "markdown",
   "id": "8c68eaf6-9c99-48d2-b6f6-89955867acbf",
   "metadata": {},
   "source": [
    "---\n",
    "4. (3 pts) append 23 followed by -5 to the end of the `nums` list. !!! You need to change the original `nums` list in memory, NOT simply create a new list with added values. !!! You should NOT end up with a nested list."
   ]
  },
  {
   "cell_type": "code",
   "execution_count": null,
   "id": "45f7f78d-565b-4e4e-9b0f-293de2c1a8a9",
   "metadata": {},
   "outputs": [],
   "source": [
    "nums = [0, 2, 3, -1, 7, 14, 22]\n",
    "\n",
    "# append 23 and -5...\n",
    "\n",
    "\n",
    "# see the results\n",
    "print(nums)"
   ]
  },
  {
   "cell_type": "markdown",
   "id": "a281a12f-a6a3-46cf-b053-b2dae8a11a0f",
   "metadata": {},
   "source": [
    "5. (3 pts) Remove all negative numbers from the `nums` list. !!! You need to change the original `nums` list in memory, NOT simply create a new list without negative values."
   ]
  },
  {
   "cell_type": "code",
   "execution_count": null,
   "id": "c9da6b8e-3e08-4d87-851e-421bbfdace3d",
   "metadata": {},
   "outputs": [],
   "source": [
    "nums = [0, 2, 3, -1, 7, 14, 22]\n",
    "\n",
    "# remove negative numbers...\n",
    "\n",
    "\n",
    "# see the results\n",
    "print(nums)"
   ]
  }
 ],
 "metadata": {
  "kernelspec": {
   "display_name": "Python 3",
   "language": "python",
   "name": "python3"
  },
  "language_info": {
   "codemirror_mode": {
    "name": "ipython",
    "version": 3
   },
   "file_extension": ".py",
   "mimetype": "text/x-python",
   "name": "python",
   "nbconvert_exporter": "python",
   "pygments_lexer": "ipython3",
   "version": "3.9.5"
  }
 },
 "nbformat": 4,
 "nbformat_minor": 5
}
