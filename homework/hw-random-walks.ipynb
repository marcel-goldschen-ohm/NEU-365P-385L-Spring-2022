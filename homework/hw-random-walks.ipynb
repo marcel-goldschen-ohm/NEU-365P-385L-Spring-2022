{
 "cells": [
  {
   "cell_type": "markdown",
   "id": "f31a3d49-1839-4c57-bb10-100597b977b0",
   "metadata": {},
   "source": [
    "# Homework (15 pts): Random walks\n",
    "\n",
    "The following questions pertain to a 3D random walk in continuous space at discrete time steps."
   ]
  },
  {
   "cell_type": "markdown",
   "id": "8ab327d4-ad68-43a7-88c0-060c590c95a9",
   "metadata": {},
   "source": [
    "---\n",
    "1. (3 pts) Create an array `walkers` of the appropriate shape to hold the 3D positions of 30,000 random walkers across 1,000 time steps."
   ]
  },
  {
   "cell_type": "code",
   "execution_count": null,
   "id": "bbe84cf0-7e98-4b50-9992-3e4f630b23d6",
   "metadata": {},
   "outputs": [],
   "source": []
  },
  {
   "cell_type": "markdown",
   "id": "7198ba67-5928-4879-95b3-3471cda7be07",
   "metadata": {},
   "source": [
    "2. (3 pts) With all walkers starting at position (0,0,0), simulate and store their positions across all time steps in the `walkers` array given that on every time step they move by a random amount between -1 and 1 (e.g. 0.2, -0.7, etc.) in each dimension."
   ]
  },
  {
   "cell_type": "code",
   "execution_count": null,
   "id": "7e00672c-3610-4fe0-be38-92fa77f36a92",
   "metadata": {},
   "outputs": [],
   "source": []
  },
  {
   "cell_type": "markdown",
   "id": "38767abc-e6d0-42b5-b032-bc66a1796b69",
   "metadata": {},
   "source": [
    "3. (3 pts) Create 3D scatter plots showing the position of all walkers at time points 1, 100 and 999. Use suplot to create an array of plots with each plot being for a different time point. !!! Make sure your axes limits are the same for all plots so that it is visually obvious what is going on. Label your plot axes appropriately and indicate the time step in the plot titles. *Hint:* I did not cover 3D scatter plots in class, so you'll have to research this on your own. There are plenty of Matplotlib tutorials for 3D scatter plots out there. Or feel free to use a different plotting package if you want."
   ]
  },
  {
   "cell_type": "code",
   "execution_count": null,
   "id": "f79f7942-a593-4bb2-901d-04863343ddd6",
   "metadata": {},
   "outputs": [],
   "source": []
  },
  {
   "cell_type": "markdown",
   "id": "43c6c587-f281-4f92-a537-605f9d205041",
   "metadata": {},
   "source": [
    "4. (3 pts) Plot a line that traces the 3D path of walker 50 during the simulation. Make sure axes labels and title are appropriate."
   ]
  },
  {
   "cell_type": "code",
   "execution_count": null,
   "id": "5fc4b9bd-a9cb-42ae-abe1-8d8286deceba",
   "metadata": {},
   "outputs": [],
   "source": []
  },
  {
   "cell_type": "markdown",
   "id": "6b415b4f-a5a3-4f25-9ff7-592d25ff7878",
   "metadata": {},
   "source": [
    "5. (3 pts) Repeat the simulation from #2 above, but constrain the walkers to be within a cube with corners at (0, 0, 0) and (50, 50, 50). Furthermore, any walker that crosses over the cube boundary should be warped to the other side of the cube. For example, if a walker attempts to move from (0.1, 0, 0) to (-0.2, 0, 0), that walker should end up at (49.8, 0, 0). The same behavior in all dimensions. Also plot your results as in #3 above."
   ]
  },
  {
   "cell_type": "code",
   "execution_count": null,
   "id": "91af0268-e250-46f3-a611-7d07f46e7614",
   "metadata": {},
   "outputs": [],
   "source": []
  }
 ],
 "metadata": {
  "kernelspec": {
   "display_name": "Python 3 (ipykernel)",
   "language": "python",
   "name": "python3"
  },
  "language_info": {
   "codemirror_mode": {
    "name": "ipython",
    "version": 3
   },
   "file_extension": ".py",
   "mimetype": "text/x-python",
   "name": "python",
   "nbconvert_exporter": "python",
   "pygments_lexer": "ipython3",
   "version": "3.9.5"
  }
 },
 "nbformat": 4,
 "nbformat_minor": 5
}
