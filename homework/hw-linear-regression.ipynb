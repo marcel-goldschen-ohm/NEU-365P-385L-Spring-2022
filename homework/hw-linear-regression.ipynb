{
 "cells": [
  {
   "cell_type": "markdown",
   "id": "934dd78f",
   "metadata": {},
   "source": [
    "# Homework - Linear Regression (9 pts)"
   ]
  },
  {
   "cell_type": "markdown",
   "id": "0a8be405",
   "metadata": {},
   "source": [
    "1. (3 pts) For the diabetes dataset in `diabetes.csv` (in linear regression lecture folder), compute the weights (i.e., slopes) for each feature in a linear model that predicts diabetes progression based on the other 10 features after the features have been standardized. "
   ]
  },
  {
   "cell_type": "code",
   "execution_count": null,
   "id": "b5cf2858",
   "metadata": {},
   "outputs": [],
   "source": []
  },
  {
   "cell_type": "markdown",
   "id": "2c531417",
   "metadata": {},
   "source": [
    "2. (3 pts) Use bootstrap to estimate 95% confidence intervals for each weight in the model from #1 above. Include the model's bias (i.e., y-intercept) in the list of weights."
   ]
  },
  {
   "cell_type": "code",
   "execution_count": null,
   "id": "013fc347",
   "metadata": {},
   "outputs": [],
   "source": []
  },
  {
   "cell_type": "markdown",
   "id": "8fb64fa8",
   "metadata": {},
   "source": [
    "3. (3 pts) For the liner model from #1-2 above, make bar plot of the model weights (include y-intercept) with errorbars indicating the 95% confidence limits."
   ]
  },
  {
   "cell_type": "code",
   "execution_count": null,
   "id": "75c260d2",
   "metadata": {},
   "outputs": [],
   "source": []
  }
 ],
 "metadata": {
  "kernelspec": {
   "display_name": "Python 3 (ipykernel)",
   "language": "python",
   "name": "python3"
  },
  "language_info": {
   "codemirror_mode": {
    "name": "ipython",
    "version": 3
   },
   "file_extension": ".py",
   "mimetype": "text/x-python",
   "name": "python",
   "nbconvert_exporter": "python",
   "pygments_lexer": "ipython3",
   "version": "3.9.10"
  }
 },
 "nbformat": 4,
 "nbformat_minor": 5
}
