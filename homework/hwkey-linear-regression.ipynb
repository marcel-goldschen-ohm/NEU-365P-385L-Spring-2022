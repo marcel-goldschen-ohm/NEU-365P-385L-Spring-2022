{
 "cells": [
  {
   "cell_type": "markdown",
   "id": "44e0f7ec",
   "metadata": {},
   "source": [
    "# Homework - Linear Regression (9 pts)"
   ]
  },
  {
   "cell_type": "markdown",
   "id": "4917edfa",
   "metadata": {},
   "source": [
    "1. (3 pts) For the diabetes dataset in `diabetes.csv` (in linear regression lecture folder), compute the weights (i.e., slopes) for each feature in a linear model that predicts diabetes progression based on the other 10 features after the features have been standardized. "
   ]
  },
  {
   "cell_type": "code",
   "execution_count": 1,
   "id": "ddf84a69",
   "metadata": {},
   "outputs": [
    {
     "data": {
      "text/html": [
       "<div><div id=4c5d17a3-0d05-4d7a-9cee-616b138ba536 style=\"display:none; background-color:#9D6CFF; color:white; width:200px; height:30px; padding-left:5px; border-radius:4px; flex-direction:row; justify-content:space-around; align-items:center;\" onmouseover=\"this.style.backgroundColor='#BA9BF8'\" onmouseout=\"this.style.backgroundColor='#9D6CFF'\" onclick=\"window.commands?.execute('create-mitosheet-from-dataframe-output');\">See Full Dataframe in Mito</div> <script> if (window.commands.hasCommand('create-mitosheet-from-dataframe-output')) document.getElementById('4c5d17a3-0d05-4d7a-9cee-616b138ba536').style.display = 'flex' </script> <table border=\"1\" class=\"dataframe\">\n",
       "  <thead>\n",
       "    <tr style=\"text-align: right;\">\n",
       "      <th></th>\n",
       "      <th>AGE</th>\n",
       "      <th>SEX</th>\n",
       "      <th>BMI</th>\n",
       "      <th>BP</th>\n",
       "      <th>TC</th>\n",
       "      <th>LDL</th>\n",
       "      <th>HDL</th>\n",
       "      <th>TCH</th>\n",
       "      <th>LTG</th>\n",
       "      <th>GLU</th>\n",
       "      <th>DIS</th>\n",
       "    </tr>\n",
       "  </thead>\n",
       "  <tbody>\n",
       "    <tr>\n",
       "      <th>0</th>\n",
       "      <td>59</td>\n",
       "      <td>2</td>\n",
       "      <td>32.1</td>\n",
       "      <td>101.0</td>\n",
       "      <td>157</td>\n",
       "      <td>93.2</td>\n",
       "      <td>38.0</td>\n",
       "      <td>4.0</td>\n",
       "      <td>4.8598</td>\n",
       "      <td>87</td>\n",
       "      <td>151</td>\n",
       "    </tr>\n",
       "    <tr>\n",
       "      <th>1</th>\n",
       "      <td>48</td>\n",
       "      <td>1</td>\n",
       "      <td>21.6</td>\n",
       "      <td>87.0</td>\n",
       "      <td>183</td>\n",
       "      <td>103.2</td>\n",
       "      <td>70.0</td>\n",
       "      <td>3.0</td>\n",
       "      <td>3.8918</td>\n",
       "      <td>69</td>\n",
       "      <td>75</td>\n",
       "    </tr>\n",
       "    <tr>\n",
       "      <th>2</th>\n",
       "      <td>72</td>\n",
       "      <td>2</td>\n",
       "      <td>30.5</td>\n",
       "      <td>93.0</td>\n",
       "      <td>156</td>\n",
       "      <td>93.6</td>\n",
       "      <td>41.0</td>\n",
       "      <td>4.0</td>\n",
       "      <td>4.6728</td>\n",
       "      <td>85</td>\n",
       "      <td>141</td>\n",
       "    </tr>\n",
       "    <tr>\n",
       "      <th>3</th>\n",
       "      <td>24</td>\n",
       "      <td>1</td>\n",
       "      <td>25.3</td>\n",
       "      <td>84.0</td>\n",
       "      <td>198</td>\n",
       "      <td>131.4</td>\n",
       "      <td>40.0</td>\n",
       "      <td>5.0</td>\n",
       "      <td>4.8903</td>\n",
       "      <td>89</td>\n",
       "      <td>206</td>\n",
       "    </tr>\n",
       "    <tr>\n",
       "      <th>4</th>\n",
       "      <td>50</td>\n",
       "      <td>1</td>\n",
       "      <td>23.0</td>\n",
       "      <td>101.0</td>\n",
       "      <td>192</td>\n",
       "      <td>125.4</td>\n",
       "      <td>52.0</td>\n",
       "      <td>4.0</td>\n",
       "      <td>4.2905</td>\n",
       "      <td>80</td>\n",
       "      <td>135</td>\n",
       "    </tr>\n",
       "  </tbody>\n",
       "</table></div>"
      ],
      "text/plain": [
       "   AGE  SEX   BMI     BP   TC    LDL   HDL  TCH     LTG  GLU  DIS\n",
       "0   59    2  32.1  101.0  157   93.2  38.0  4.0  4.8598   87  151\n",
       "1   48    1  21.6   87.0  183  103.2  70.0  3.0  3.8918   69   75\n",
       "2   72    2  30.5   93.0  156   93.6  41.0  4.0  4.6728   85  141\n",
       "3   24    1  25.3   84.0  198  131.4  40.0  5.0  4.8903   89  206\n",
       "4   50    1  23.0  101.0  192  125.4  52.0  4.0  4.2905   80  135"
      ]
     },
     "execution_count": 1,
     "metadata": {},
     "output_type": "execute_result"
    }
   ],
   "source": [
    "import pandas as pd\n",
    "df = pd.read_csv('diabetes.csv')\n",
    "df.head()"
   ]
  },
  {
   "cell_type": "code",
   "execution_count": 2,
   "id": "64c8bc07",
   "metadata": {},
   "outputs": [
    {
     "data": {
      "text/plain": [
       "(152.1334841628959,\n",
       " array([ -0.47612079, -11.40686692,  24.72654886,  15.42940413,\n",
       "        -37.67995261,  22.67616277,   4.80613814,   8.42203936,\n",
       "         35.73444577,   3.21667372]))"
      ]
     },
     "execution_count": 2,
     "metadata": {},
     "output_type": "execute_result"
    }
   ],
   "source": [
    "from sklearn.linear_model import LinearRegression\n",
    "\n",
    "X = df.loc[:,'AGE':'GLU'].to_numpy()\n",
    "y = df['DIS'].to_numpy()\n",
    "\n",
    "Xs = (X - X.mean(axis=0)) / X.std(axis=0)\n",
    "\n",
    "model = LinearRegression()\n",
    "model.fit(Xs, y)\n",
    "\n",
    "model.intercept_, model.coef_"
   ]
  },
  {
   "cell_type": "markdown",
   "id": "9ef2571f",
   "metadata": {},
   "source": [
    "2. (3 pts) Use bootstrap to estimate 95% confidence intervals for each weight in the model from #1 above. Include the model's bias (i.e., y-intercept) in the list of weights."
   ]
  },
  {
   "cell_type": "code",
   "execution_count": 3,
   "id": "a30bf623",
   "metadata": {},
   "outputs": [
    {
     "data": {
      "text/plain": [
       "(2, 11)"
      ]
     },
     "execution_count": 3,
     "metadata": {},
     "output_type": "execute_result"
    }
   ],
   "source": [
    "import numpy as np\n",
    "num_bs = 1000\n",
    "bs_weights = np.zeros([num_bs, 11])\n",
    "bs_model = LinearRegression()\n",
    "for i in range(num_bs):\n",
    "    ind = np.random.choice(np.arange(len(y)), size=len(y), replace=True)\n",
    "    bs_X = Xs[ind]\n",
    "    bs_y = y[ind]\n",
    "    bs_model.fit(bs_X, bs_y)\n",
    "    bs_weights[i,0] = bs_model.intercept_\n",
    "    bs_weights[i,1:] = bs_model.coef_\n",
    "\n",
    "weights_ci = np.quantile(bs_weights, [0.025, 0.975], axis=0)\n",
    "weights_ci.shape"
   ]
  },
  {
   "cell_type": "markdown",
   "id": "7996f664",
   "metadata": {},
   "source": [
    "3. (3 pts) For the liner model from #1-2 above, make bar plot of the model weights (exclude y-intercept) with errorbars indicating the 95% confidence limits."
   ]
  },
  {
   "cell_type": "code",
   "execution_count": 4,
   "id": "7203b673",
   "metadata": {},
   "outputs": [
    {
     "data": {
      "image/png": "[encoded data removed]",
      "text/plain": [
       "<Figure size 720x360 with 1 Axes>"
      ]
     },
     "metadata": {
      "image/png": {
       "height": 299,
       "width": 613
      },
      "needs_background": "light"
     },
     "output_type": "display_data"
    }
   ],
   "source": [
    "import matplotlib.pyplot as plt\n",
    "%config InlineBackend.figure_format = 'retina'\n",
    "plt.style.use('bmh')\n",
    "\n",
    "coef_yerr = np.abs(weights_ci[:,1:] - model.coef_)\n",
    "\n",
    "plt.figure(figsize=[10,5])\n",
    "plt.bar(range(10), model.coef_)\n",
    "plt.errorbar(range(10), model.coef_, yerr=coef_yerr, ls='', color='k')\n",
    "plt.xticks(range(10), df.columns.values[:-1])\n",
    "plt.ylabel('weight');"
   ]
  },
  {
   "cell_type": "code",
   "execution_count": null,
   "id": "7274a00d",
   "metadata": {},
   "outputs": [],
   "source": []
  }
 ],
 "metadata": {
  "kernelspec": {
   "display_name": "Python 3 (ipykernel)",
   "language": "python",
   "name": "python3"
  },
  "language_info": {
   "codemirror_mode": {
    "name": "ipython",
    "version": 3
   },
   "file_extension": ".py",
   "mimetype": "text/x-python",
   "name": "python",
   "nbconvert_exporter": "python",
   "pygments_lexer": "ipython3",
   "version": "3.9.10"
  }
 },
 "nbformat": 4,
 "nbformat_minor": 5
}
