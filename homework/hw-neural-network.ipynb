{
 "cells": [
  {
   "cell_type": "markdown",
   "id": "ab03f05f-7d16-49df-bc37-dba304673d92",
   "metadata": {},
   "source": [
    "# Homework (9 pts) - Neural Networks\n",
    "\n",
    "**!!! Plus 3 pts EXTRA CREDIT**"
   ]
  },
  {
   "cell_type": "markdown",
   "id": "55ba8f80-625b-426a-b65e-f5ba500745f9",
   "metadata": {},
   "source": [
    "Mouse V1 data from Stringer et al. (2019)\n",
    "https://www.biorxiv.org/content/10.1101/679324v2.abstract\n",
    "\n",
    "These data comprise time-averaged responses of ~20,000 neurons to ~4,000 stimulus gratings of different orientations from 0-360 degrees, recorded through Calcium imaging. The responses have been normalized by spontaneous levels of activity and then z-scored over stimuli, so expect negative numbers. They have also been binned and averaged to each degree of orientation."
   ]
  },
  {
   "cell_type": "code",
   "execution_count": null,
   "id": "7c764486-3e8f-4b00-ba0d-821f0361be19",
   "metadata": {},
   "outputs": [],
   "source": [
    "import numpy as np\n",
    "\n",
    "# if you put these files somewher else just edit the paths\n",
    "neural_responses = np.load('../lectures/30 - neural networks/neural_responses.npy')\n",
    "grating_orientations = np.load('../lectures/30 - neural networks/grating_orientations.npy')\n",
    "\n",
    "# angle normalized to fall in [0,1]\n",
    "# to get back actual angle, just multiply by 360\n",
    "grating_orientations /= 360\n",
    "\n",
    "neural_responses.shape, grating_orientations.shape"
   ]
  },
  {
   "cell_type": "markdown",
   "id": "f80f93cd-6017-49eb-a5a4-7d794de91dd5",
   "metadata": {},
   "source": [
    "1. (3 pts) Set the variable `device` to either \"cuda\" or \"cpu\" as appropriate."
   ]
  },
  {
   "cell_type": "code",
   "execution_count": null,
   "id": "b2d78404-c918-4250-96dc-c54f44243859",
   "metadata": {},
   "outputs": [],
   "source": []
  },
  {
   "cell_type": "markdown",
   "id": "36326734-9156-4977-8935-14f7b50aba7d",
   "metadata": {},
   "source": [
    "2. (3 pts) Split data into training and testing sets with 50% of the data in each set. Then convert the data into PyTorch tensors on the appropriate device."
   ]
  },
  {
   "cell_type": "code",
   "execution_count": null,
   "id": "5f18d296-2be4-4cb8-886e-78d9149c15f3",
   "metadata": {},
   "outputs": [],
   "source": []
  },
  {
   "cell_type": "markdown",
   "id": "143ec44f-fddd-4089-b335-6b26563de25f",
   "metadata": {},
   "source": [
    "3. (3 pts) Define a neural network for predicting grating angle based on neural activity. Input is the activity of all biological neurons. Next layer has 500 neurons with ReLU activation. Next layer has 10 neurons with ReLU activation. Next layer has 5 neurons with ReLU activation. Final layer has as many neurons as needed for the task with sigmoid activation."
   ]
  },
  {
   "cell_type": "code",
   "execution_count": null,
   "id": "867cf38d-2b5c-477c-93f4-6fa39e79bb04",
   "metadata": {},
   "outputs": [],
   "source": []
  },
  {
   "cell_type": "markdown",
   "id": "e8445471-cf5c-415e-a80f-7db80df54847",
   "metadata": {},
   "source": [
    "EXTRA CREDIT (1 pt) Write function for training your network."
   ]
  },
  {
   "cell_type": "code",
   "execution_count": null,
   "id": "3b8b0ad5-edfa-417e-880a-7cc1a45b2390",
   "metadata": {},
   "outputs": [],
   "source": []
  },
  {
   "cell_type": "markdown",
   "id": "3b58045a-51d8-49a3-abfa-667f32adccc1",
   "metadata": {},
   "source": [
    "EXTRA CREDIT (1 pt) Create an instance of your neural network on the appropriate device, a loss function, a stochastic gradient descent optimizer (try a learning rate of ~0.1), and then train your network with enough epochs to converge."
   ]
  },
  {
   "cell_type": "code",
   "execution_count": null,
   "id": "e2b1d21f-3cd2-4179-8055-bdcaba17f829",
   "metadata": {},
   "outputs": [],
   "source": []
  },
  {
   "cell_type": "markdown",
   "id": "74cdb2e3-f2cc-4df9-aebc-3f2fa2ba2ce5",
   "metadata": {},
   "source": [
    "EXTRA CREDIT (1 pt) Plot the known grating angles in the test set vs. the network's predictions."
   ]
  },
  {
   "cell_type": "code",
   "execution_count": null,
   "id": "ec014e13-addf-42e0-9c4e-88495d3120e2",
   "metadata": {},
   "outputs": [],
   "source": []
  }
 ],
 "metadata": {
  "kernelspec": {
   "display_name": "Python 3 (ipykernel)",
   "language": "python",
   "name": "python3"
  },
  "language_info": {
   "codemirror_mode": {
    "name": "ipython",
    "version": 3
   },
   "file_extension": ".py",
   "mimetype": "text/x-python",
   "name": "python",
   "nbconvert_exporter": "python",
   "pygments_lexer": "ipython3",
   "version": "3.9.10"
  }
 },
 "nbformat": 4,
 "nbformat_minor": 5
}
