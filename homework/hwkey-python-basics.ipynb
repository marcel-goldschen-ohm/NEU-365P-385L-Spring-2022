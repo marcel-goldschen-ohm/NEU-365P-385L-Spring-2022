{
 "cells": [
  {
   "cell_type": "markdown",
   "id": "c04ca852-f89e-4d22-846b-9b854038187b",
   "metadata": {},
   "source": [
    "# Homework (15 pts): Python basics"
   ]
  },
  {
   "cell_type": "markdown",
   "id": "d19a94ac-ef29-438c-b273-204898d902f8",
   "metadata": {},
   "source": [
    "---\n",
    "1. (3 pts) Use list slicing to make a new array `everyOther` that includes every other number in `nums`."
   ]
  },
  {
   "cell_type": "code",
   "execution_count": 1,
   "id": "ea772846-b6ef-4e61-8879-391f78125ee0",
   "metadata": {},
   "outputs": [
    {
     "name": "stdout",
     "output_type": "stream",
     "text": [
      "[0, 3, 7, 22]\n"
     ]
    }
   ],
   "source": [
    "nums = [0, 2, 3, -1, 7, 14, 22]\n",
    "\n",
    "# make new array with every other number...\n",
    "everyOther = nums[::2]\n",
    "\n",
    "# see the results\n",
    "print(everyOther)"
   ]
  },
  {
   "cell_type": "markdown",
   "id": "8b83a942-2de5-4293-a6bf-53c37df48557",
   "metadata": {},
   "source": [
    "---\n",
    "2. (3 pts) Use a for loop to iterate over the numbers in `nums` and append each number to the appropriate `evens` or `odds` list."
   ]
  },
  {
   "cell_type": "code",
   "execution_count": 2,
   "id": "92d5b41c-96e7-47c0-8257-f8e1a89f4db6",
   "metadata": {},
   "outputs": [
    {
     "name": "stdout",
     "output_type": "stream",
     "text": [
      "[0, 2, 14, 22]\n",
      "[3, -1, 7]\n"
     ]
    }
   ],
   "source": [
    "nums = [0, 2, 3, -1, 7, 14, 22]\n",
    "evens = []\n",
    "odds = []\n",
    "\n",
    "# use for loop to fill empty evens and odds lists...\n",
    "for num in nums:\n",
    "    if num % 2 == 0:\n",
    "        evens.append(num)\n",
    "    else:\n",
    "        odds.append(num)\n",
    "\n",
    "# see the results\n",
    "print(evens)\n",
    "print(odds)"
   ]
  },
  {
   "cell_type": "markdown",
   "id": "86a14314-6547-484c-b28f-91e654fce7d2",
   "metadata": {},
   "source": [
    "---\n",
    "3. (3 pts) Swap the first and last numbers in `nums`. !!! You need to change the original `nums` list in memory, NOT simply create a new list with swapped values."
   ]
  },
  {
   "cell_type": "code",
   "execution_count": 3,
   "id": "9ecc40b8-8b6b-48ca-bf8a-422fc5013767",
   "metadata": {},
   "outputs": [
    {
     "name": "stdout",
     "output_type": "stream",
     "text": [
      "[22, 2, 3, -1, 7, 14, 0]\n"
     ]
    }
   ],
   "source": [
    "nums = [0, 2, 3, -1, 7, 14, 22]\n",
    "\n",
    "# swap the first and last numbers...\n",
    "first = nums[0]\n",
    "last = nums[-1]\n",
    "nums[0] = last\n",
    "nums[-1] = first\n",
    "\n",
    "# see the results\n",
    "print(nums)"
   ]
  },
  {
   "cell_type": "markdown",
   "id": "cde1da2f-8288-46ea-ab5e-1ca1785dd7f1",
   "metadata": {},
   "source": [
    "Here's another way to do the same thing..."
   ]
  },
  {
   "cell_type": "code",
   "execution_count": 4,
   "id": "11c870e4-66f6-450a-bff0-513cc0b0eb3a",
   "metadata": {},
   "outputs": [
    {
     "name": "stdout",
     "output_type": "stream",
     "text": [
      "[22, 2, 3, -1, 7, 14, 0]\n"
     ]
    }
   ],
   "source": [
    "nums = [0, 2, 3, -1, 7, 14, 22]\n",
    "\n",
    "# swap the first and last numbers...\n",
    "nums[0], nums[-1] = nums[-1], nums[0]\n",
    "\n",
    "# see the results\n",
    "print(nums)"
   ]
  },
  {
   "cell_type": "markdown",
   "id": "8c68eaf6-9c99-48d2-b6f6-89955867acbf",
   "metadata": {},
   "source": [
    "---\n",
    "4. (3 pts) append 23 followed by -5 to the end of the `nums` list. !!! You need to change the original `nums` list in memory, NOT simply create a new list with added values. !!! You should NOT end up with a nested list."
   ]
  },
  {
   "cell_type": "code",
   "execution_count": 5,
   "id": "45f7f78d-565b-4e4e-9b0f-293de2c1a8a9",
   "metadata": {},
   "outputs": [
    {
     "name": "stdout",
     "output_type": "stream",
     "text": [
      "[0, 2, 3, -1, 7, 14, 22, 23, -5]\n"
     ]
    }
   ],
   "source": [
    "nums = [0, 2, 3, -1, 7, 14, 22]\n",
    "\n",
    "# append 23 and -5...\n",
    "nums.append(23)\n",
    "nums.append(-5)\n",
    "\n",
    "# see the results\n",
    "print(nums)"
   ]
  },
  {
   "cell_type": "markdown",
   "id": "27e285f2-0682-4603-a025-ba2fe6be8399",
   "metadata": {},
   "source": [
    "Here's another way to do the same thing..."
   ]
  },
  {
   "cell_type": "code",
   "execution_count": 6,
   "id": "57f89f3b-e58e-4efc-8f3a-cac9c0669845",
   "metadata": {},
   "outputs": [
    {
     "name": "stdout",
     "output_type": "stream",
     "text": [
      "[0, 2, 3, -1, 7, 14, 22, 23, -5]\n"
     ]
    }
   ],
   "source": [
    "nums = [0, 2, 3, -1, 7, 14, 22]\n",
    "\n",
    "# append 23 and -5...\n",
    "nums.extend([23, -5])\n",
    "\n",
    "# see the results\n",
    "print(nums)"
   ]
  },
  {
   "cell_type": "markdown",
   "id": "667b247f-0f2e-4432-b6c0-481fb0de7619",
   "metadata": {},
   "source": [
    "Here's another way to do the same thing..."
   ]
  },
  {
   "cell_type": "code",
   "execution_count": 7,
   "id": "f653671c-d39c-4dca-97a2-6469b0c73c9f",
   "metadata": {},
   "outputs": [
    {
     "name": "stdout",
     "output_type": "stream",
     "text": [
      "[0, 2, 3, -1, 7, 14, 22, 23, -5]\n"
     ]
    }
   ],
   "source": [
    "nums = [0, 2, 3, -1, 7, 14, 22]\n",
    "\n",
    "# append 23 and -5...\n",
    "nums = nums + [23, -5]\n",
    "\n",
    "# see the results\n",
    "print(nums)"
   ]
  },
  {
   "cell_type": "markdown",
   "id": "2538a70f-ce81-48dc-b878-04d3bc5f892c",
   "metadata": {},
   "source": [
    "Here's another way to do the same thing..."
   ]
  },
  {
   "cell_type": "code",
   "execution_count": 8,
   "id": "d55e594b-505a-4d2a-8dca-4becf0218240",
   "metadata": {},
   "outputs": [
    {
     "name": "stdout",
     "output_type": "stream",
     "text": [
      "[0, 2, 3, -1, 7, 14, 22, 23, -5]\n"
     ]
    }
   ],
   "source": [
    "nums = [0, 2, 3, -1, 7, 14, 22]\n",
    "\n",
    "# append 23 and -5...\n",
    "nums += [23, -5]\n",
    "\n",
    "# see the results\n",
    "print(nums)"
   ]
  },
  {
   "cell_type": "markdown",
   "id": "a281a12f-a6a3-46cf-b053-b2dae8a11a0f",
   "metadata": {},
   "source": [
    "5. (3 pts) Remove all negative numbers from the `nums` list. !!! You need to change the original `nums` list in memory, NOT simply create a new list without negative values."
   ]
  },
  {
   "cell_type": "code",
   "execution_count": 9,
   "id": "c9da6b8e-3e08-4d87-851e-421bbfdace3d",
   "metadata": {},
   "outputs": [
    {
     "name": "stdout",
     "output_type": "stream",
     "text": [
      "[0, 2, 3, 7, 14, 22]\n"
     ]
    }
   ],
   "source": [
    "nums = [0, 2, 3, -1, 7, 14, 22]\n",
    "\n",
    "# remove negative numbers...\n",
    "nums.remove(-1)\n",
    "\n",
    "# see the results\n",
    "print(nums)"
   ]
  },
  {
   "cell_type": "markdown",
   "id": "ccbb8947-6965-4152-8694-dc4b764b1145",
   "metadata": {},
   "source": [
    "Here's another way to do the same thing..."
   ]
  },
  {
   "cell_type": "code",
   "execution_count": 10,
   "id": "540c05a7-d6d8-4aaa-be62-f74834cdb0cf",
   "metadata": {},
   "outputs": [
    {
     "name": "stdout",
     "output_type": "stream",
     "text": [
      "[0, 2, 3, 7, 14, 22]\n"
     ]
    }
   ],
   "source": [
    "nums = [0, 2, 3, -1, 7, 14, 22]\n",
    "\n",
    "# remove negative numbers...\n",
    "del nums[3]\n",
    "\n",
    "# see the results\n",
    "print(nums)"
   ]
  }
 ],
 "metadata": {
  "kernelspec": {
   "display_name": "Python 3",
   "language": "python",
   "name": "python3"
  },
  "language_info": {
   "codemirror_mode": {
    "name": "ipython",
    "version": 3
   },
   "file_extension": ".py",
   "mimetype": "text/x-python",
   "name": "python",
   "nbconvert_exporter": "python",
   "pygments_lexer": "ipython3",
   "version": "3.9.5"
  }
 },
 "nbformat": 4,
 "nbformat_minor": 5
}
