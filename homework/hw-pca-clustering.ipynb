{
 "cells": [
  {
   "cell_type": "markdown",
   "id": "attractive-device",
   "metadata": {},
   "source": [
    "# Homework (18 pts) - PCA & Clustering"
   ]
  },
  {
   "cell_type": "code",
   "execution_count": null,
   "id": "grateful-simpson",
   "metadata": {},
   "outputs": [],
   "source": [
    "import numpy as np\n",
    "import matplotlib.pyplot as plt\n",
    "%config InlineBackend.figure_format = 'retina'\n",
    "%config InlineBackend.figure_format = 'retina'\n",
    "plt.style.use('bmh')\n",
    "plt.rcParams['lines.markeredgecolor'] = 'w'\n",
    "plt.rcParams['lines.markeredgewidth'] = 0.5\n",
    "plt.rcParams['figure.figsize'] = [15, 6]\n",
    "\n",
    "# file is in the same folder as this notebook\n",
    "EEGs = np.load(\"EEGs.npy\")\n",
    "\n",
    "# [channel, time, trial]\n",
    "EEGs.shape"
   ]
  },
  {
   "cell_type": "markdown",
   "id": "radio-colleague",
   "metadata": {},
   "source": [
    "---\n",
    "1. (3 pts) From the EEG data above, generate the average EEG across trials for each channel. Plot the result for channel index 20."
   ]
  },
  {
   "cell_type": "code",
   "execution_count": null,
   "id": "experienced-designer",
   "metadata": {},
   "outputs": [],
   "source": []
  },
  {
   "cell_type": "markdown",
   "id": "stuck-bubble",
   "metadata": {},
   "source": [
    "---\n",
    "2. (3 pts) Apply PCA to the averaged EEGs from #1 above. Use as many principal components (PCs) as needed to explain 90% of the variance in the average EEG waveforms. Report the number of PCs used and plot each PC as if it were an EEG waveform itself."
   ]
  },
  {
   "cell_type": "code",
   "execution_count": null,
   "id": "russian-pierre",
   "metadata": {},
   "outputs": [],
   "source": []
  },
  {
   "cell_type": "markdown",
   "id": "happy-accessory",
   "metadata": {},
   "source": [
    "---\n",
    "3. (3 pts) Replot the average EEG for channel 20 as in #1 above, and additionally overlay the plot of its projection onto the principal components from #2 above. Use a legend to label the plots as 'original' and 'projected'. Does it look like we lost a lot of information by describing each waveform using only a small number of PCs as opposed to explicit values at each time point?"
   ]
  },
  {
   "cell_type": "code",
   "execution_count": null,
   "id": "upper-manner",
   "metadata": {},
   "outputs": [],
   "source": []
  },
  {
   "cell_type": "markdown",
   "id": "dutch-consolidation",
   "metadata": {},
   "source": [
    "---\n",
    "4. (3 pts) How much of each of the principal component waveforms were mixed together to generate the projection for channel 20 as shown in #3 above? Plot the relative amounts of each principal component as a bar graph."
   ]
  },
  {
   "cell_type": "code",
   "execution_count": null,
   "id": "raised-flush",
   "metadata": {},
   "outputs": [],
   "source": []
  },
  {
   "cell_type": "markdown",
   "id": "developed-advantage",
   "metadata": {},
   "source": [
    "---\n",
    "5. (3 pts) Use a Gaussian mixture model (GMM) to group the average EEG waveforms into clusters in the PCA reduced dimensions. Use the silhouette score to determine the optimal number of clusters from 2-10. Plot the EEG waveforms as points in the first three PCA reduced dimensions (axes are the PCs) colored according to their cluster."
   ]
  },
  {
   "cell_type": "code",
   "execution_count": null,
   "id": "incident-syndrome",
   "metadata": {},
   "outputs": [],
   "source": []
  },
  {
   "cell_type": "markdown",
   "id": "female-conservative",
   "metadata": {},
   "source": [
    "---\n",
    "6. (3 pts) For each of the clusters from #5 above, plot the cluster-averaged EEG. Overlay all EEGs on the same axes and denote their cluster id with a legend."
   ]
  },
  {
   "cell_type": "code",
   "execution_count": null,
   "id": "divine-upgrade",
   "metadata": {},
   "outputs": [],
   "source": []
  }
 ],
 "metadata": {
  "kernelspec": {
   "display_name": "Python 3 (ipykernel)",
   "language": "python",
   "name": "python3"
  },
  "language_info": {
   "codemirror_mode": {
    "name": "ipython",
    "version": 3
   },
   "file_extension": ".py",
   "mimetype": "text/x-python",
   "name": "python",
   "nbconvert_exporter": "python",
   "pygments_lexer": "ipython3",
   "version": "3.9.10"
  }
 },
 "nbformat": 4,
 "nbformat_minor": 5
}
